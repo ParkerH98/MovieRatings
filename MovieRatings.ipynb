{
 "cells": [
  {
   "cell_type": "markdown",
   "metadata": {},
   "source": [
    "# Imports"
   ]
  },
  {
   "cell_type": "code",
   "execution_count": 15,
   "metadata": {},
   "outputs": [],
   "source": [
    "import pandas as pd\n",
    "import tensorflow as tf\n",
    "import tensorflow.keras.layers as Layer\n",
    "import numpy as np\n",
    "# import keras_tuner as kt\n",
    "import tensorflow.keras.layers.experimental.preprocessing as preprocessing\n",
    "from DatasetFormatting import *"
   ]
  },
  {
   "cell_type": "markdown",
   "metadata": {},
   "source": [
    "# Preparing Training Dataset"
   ]
  },
  {
   "cell_type": "code",
   "execution_count": 16,
   "metadata": {},
   "outputs": [],
   "source": [
    "np.random.seed(1)\n",
    "tf.random.set_seed(1)\n",
    "\n",
    "movie_df = df\n",
    "movie_df.drop(['vote_count'], axis = 1)\n",
    "\n",
    "# saves genres keys/values if needed for lookup later\n",
    "# keys, genres = pd.factorize(movie_df['genres'])\n",
    "\n",
    "# print(genres.shape)\n",
    "# movie_df['genres'] = pd.factorize(movie_df['genres'])[0]\n",
    "\n",
    "data_count = movie_df.shape[0]\n",
    "training_data_count = int(data_count * 0.75) + 1\n",
    "test_data_count = data_count - training_data_count\n",
    "\n",
    "y_train = np.array(movie_df['vote_average'].head(training_data_count))\n",
    "x_train = np.array(movie_df['final_form'].head(training_data_count))\n",
    "\n",
    "y_test = np.array(movie_df['vote_average'].tail(test_data_count))\n",
    "x_test = np.array(movie_df[['final_form']].tail(test_data_count))\n",
    "\n",
    "# print(x_train)\n",
    "# print(x_train.shape)\n",
    "\n",
    "\n",
    "# print(x_test)\n",
    "# print(x_test.shape)"
   ]
  },
  {
   "cell_type": "markdown",
   "metadata": {},
   "source": [
    "# Text Vectorization For Features"
   ]
  },
  {
   "cell_type": "code",
   "execution_count": 17,
   "metadata": {},
   "outputs": [
    {
     "name": "stderr",
     "output_type": "stream",
     "text": [
      "2021-11-05 23:46:52.938838: I tensorflow/core/grappler/optimizers/custom_graph_optimizer_registry.cc:112] Plugin optimizer for device_type GPU is enabled.\n"
     ]
    },
    {
     "data": {
      "text/plain": [
       "array(['', '[UNK]', 'drama', ..., 'aamnashariff', 'aamirbashir',\n",
       "       'aadukalamnaren'], dtype='<U30')"
      ]
     },
     "execution_count": 17,
     "metadata": {},
     "output_type": "execute_result"
    }
   ],
   "source": [
    "VOCAB_SIZE = 201277\n",
    "encoder = tf.keras.layers.experimental.preprocessing.TextVectorization(\n",
    "    max_tokens=VOCAB_SIZE)\n",
    "\n",
    "features = np.array(df['final_form'])\n",
    "\n",
    "\n",
    "encoder.adapt(features)\n",
    "vocab = np.array(encoder.get_vocabulary())\n",
    "vocab"
   ]
  },
  {
   "cell_type": "code",
   "execution_count": 18,
   "metadata": {},
   "outputs": [
    {
     "name": "stdout",
     "output_type": "stream",
     "text": [
      "DakotaFanning JosePabloCantillo Horror\n"
     ]
    },
    {
     "data": {
      "text/plain": [
       "array([ 325, 3016,    5])"
      ]
     },
     "execution_count": 18,
     "metadata": {},
     "output_type": "execute_result"
    }
   ],
   "source": [
    "example = encoder(movie_df['final_form'].to_numpy()[0]).numpy()\n",
    "print(movie_df['final_form'].to_numpy()[0])\n",
    "example"
   ]
  },
  {
   "cell_type": "markdown",
   "metadata": {},
   "source": [
    "# Recurrent Neural Network"
   ]
  },
  {
   "cell_type": "code",
   "execution_count": 19,
   "metadata": {},
   "outputs": [
    {
     "name": "stdout",
     "output_type": "stream",
     "text": [
      "Model: \"sequential\"\n",
      "_________________________________________________________________\n",
      "Layer (type)                 Output Shape              Param #   \n",
      "=================================================================\n",
      "text_vectorization_2 (TextVe (None, None)              0         \n",
      "_________________________________________________________________\n",
      "embedding (Embedding)        (None, None, 100)         4126500   \n",
      "_________________________________________________________________\n",
      "simple_rnn (SimpleRNN)       (None, 100)               20100     \n",
      "_________________________________________________________________\n",
      "dense (Dense)                (None, 100)               10100     \n",
      "_________________________________________________________________\n",
      "dense_1 (Dense)              (None, 1)                 101       \n",
      "=================================================================\n",
      "Total params: 4,156,801\n",
      "Trainable params: 4,156,801\n",
      "Non-trainable params: 0\n",
      "_________________________________________________________________\n",
      "Epoch 1/5\n"
     ]
    },
    {
     "name": "stderr",
     "output_type": "stream",
     "text": [
      "2021-11-05 23:46:53.789957: I tensorflow/core/grappler/optimizers/custom_graph_optimizer_registry.cc:112] Plugin optimizer for device_type GPU is enabled.\n"
     ]
    },
    {
     "name": "stdout",
     "output_type": "stream",
     "text": [
      "34/34 [==============================] - 3s 70ms/step - loss: 14.4052 - accuracy: 5.8862e-05\n",
      "Epoch 2/5\n",
      "34/34 [==============================] - 2s 65ms/step - loss: 1.8268 - accuracy: 0.0000e+00\n",
      "Epoch 3/5\n",
      "34/34 [==============================] - 2s 70ms/step - loss: 1.0543 - accuracy: 0.0000e+00\n",
      "Epoch 4/5\n",
      "34/34 [==============================] - 2s 62ms/step - loss: 0.6089 - accuracy: 0.0000e+00\n",
      "Epoch 5/5\n",
      "34/34 [==============================] - 2s 65ms/step - loss: 0.3280 - accuracy: 5.8862e-05\n",
      "  5/531 [..............................] - ETA: 7s - loss: 0.4389 - accuracy: 0.0000e+00  "
     ]
    },
    {
     "name": "stderr",
     "output_type": "stream",
     "text": [
      "2021-11-05 23:47:05.526234: I tensorflow/core/grappler/optimizers/custom_graph_optimizer_registry.cc:112] Plugin optimizer for device_type GPU is enabled.\n"
     ]
    },
    {
     "name": "stdout",
     "output_type": "stream",
     "text": [
      "531/531 [==============================] - 7s 12ms/step - loss: 0.1850 - accuracy: 0.0000e+00\n",
      "Test loss: 0.1850317120552063\n",
      "Test accuracy: 0.0\n"
     ]
    }
   ],
   "source": [
    "\n",
    "\n",
    "\n",
    "model_RNN = tf.keras.Sequential([\n",
    " encoder,\n",
    "    Layer.Embedding(\n",
    "        input_dim=len(encoder.get_vocabulary()),\n",
    "        output_dim=100,\n",
    "        # Use masking to handle the variable sequence lengths\n",
    "        mask_zero=True),\n",
    "    Layer.SimpleRNN(100),\n",
    "    Layer.Dense(100, activation='relu'),\n",
    "    Layer.Dense(1)\n",
    "])\n",
    "\n",
    "model_RNN.compile(loss=tf.keras.losses.MeanSquaredError(),\n",
    "              optimizer=tf.keras.optimizers.Adam(1e-3),\n",
    "              metrics=['accuracy'])\n",
    "\n",
    "model_RNN.summary()\n",
    "\n",
    "# Train the model.\n",
    "model_RNN.fit(\n",
    "    x_train,\n",
    "    y_train, \n",
    "    batch_size=512,\n",
    "    epochs=5)\n",
    "\n",
    "# Evaluate\n",
    "score = model_RNN.evaluate(x_train, y_train)\n",
    "print('Test loss:', score[0])\n",
    "print('Test accuracy:', score[1])\n"
   ]
  },
  {
   "cell_type": "markdown",
   "metadata": {},
   "source": []
  },
  {
   "cell_type": "code",
   "execution_count": 20,
   "metadata": {},
   "outputs": [
    {
     "name": "stdout",
     "output_type": "stream",
     "text": [
      "[2.4510148]\n"
     ]
    },
    {
     "name": "stderr",
     "output_type": "stream",
     "text": [
      "2021-11-05 23:47:12.119678: I tensorflow/core/grappler/optimizers/custom_graph_optimizer_registry.cc:112] Plugin optimizer for device_type GPU is enabled.\n"
     ]
    }
   ],
   "source": [
    "sample_text = ('action')\n",
    "predictions = model_RNN.predict(np.array([sample_text]))\n",
    "print(predictions[0])\n",
    "\n",
    "\n"
   ]
  },
  {
   "cell_type": "code",
   "execution_count": 21,
   "metadata": {},
   "outputs": [],
   "source": [
    "# input = tf.keras.layers.Input(shape=(1,))\n",
    "# genre_embedding = tf.keras.layers.Embedding(\n",
    "#         input_dim=len(genre_encoder.get_vocabulary()) + 1,\n",
    "#         output_dim=100)(input)\n",
    "\n",
    "\n",
    "# simple_rnn = tf.keras.layers.SimpleRNN(100)(genre_embedding)\n",
    "# hidden1 = tf.keras.layers.Dense(100, activation='relu')(simple_rnn)\n",
    "# output = tf.keras.layers.Dense(1)(hidden1)\n",
    "\n",
    "# model_RNN = keras.Model(inputs=input, outputs=output)\n"
   ]
  }
 ],
 "metadata": {
  "interpreter": {
   "hash": "4bd624a0593993fe43ac4046b27b898fb2ef75c21c08f81e89e64ea0f51df676"
  },
  "kernelspec": {
   "display_name": "Python 3.9.7 64-bit ('tensorflow': conda)",
   "name": "python3"
  },
  "language_info": {
   "codemirror_mode": {
    "name": "ipython",
    "version": 3
   },
   "file_extension": ".py",
   "mimetype": "text/x-python",
   "name": "python",
   "nbconvert_exporter": "python",
   "pygments_lexer": "ipython3",
   "version": "3.9.7"
  },
  "orig_nbformat": 4
 },
 "nbformat": 4,
 "nbformat_minor": 2
}
