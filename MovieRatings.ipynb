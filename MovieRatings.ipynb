{
 "cells": [
  {
   "cell_type": "markdown",
   "metadata": {},
   "source": [
    "# Imports"
   ]
  },
  {
   "cell_type": "code",
   "execution_count": 23,
   "metadata": {},
   "outputs": [],
   "source": [
    "import pandas as pd\n",
    "import tensorflow as tf\n",
    "import tensorflow.keras.layers as Layer\n",
    "import numpy as np\n",
    "import tensorflow.keras.layers.experimental.preprocessing as preprocessing\n",
    "from DatasetFormatting import *\n",
    "import statistics\n"
   ]
  },
  {
   "cell_type": "markdown",
   "metadata": {},
   "source": [
    "# Preparing Training Dataset"
   ]
  },
  {
   "cell_type": "code",
   "execution_count": 25,
   "metadata": {},
   "outputs": [
    {
     "name": "stdout",
     "output_type": "stream",
     "text": [
      "STD: 0.9976277124059775\n",
      "mean: 6.165617412034789\n",
      "variance: 0.9952610525603838\n",
      "mode: 6.5\n",
      "x_train shape: (16989,)\n"
     ]
    }
   ],
   "source": [
    "np.random.seed(1)\n",
    "tf.random.set_seed(1)\n",
    "\n",
    "movie_df = df\n",
    "movie_df.drop(['vote_count'], axis = 1)\n",
    "\n",
    "data_count = movie_df.shape[0]\n",
    "training_data_count = int(data_count * 0.75) + 1\n",
    "test_data_count = data_count - training_data_count\n",
    "\n",
    "y_train = np.array(movie_df['vote_average'].head(training_data_count))\n",
    "x_train = np.array(movie_df['training_col'].head(training_data_count))\n",
    "\n",
    "y_test = np.array(movie_df['vote_average'].tail(test_data_count))\n",
    "x_test = np.array(movie_df[['training_col']].tail(test_data_count))\n",
    "\n",
    "std = statistics.stdev(movie_df['vote_average'].to_list())\n",
    "mean = statistics.mean(movie_df['vote_average'].to_list())\n",
    "variance = statistics.variance(movie_df['vote_average'].to_list())\n",
    "mode = statistics.mode(movie_df['vote_average'].to_list())\n",
    "\n",
    "print(f\"STD: {std}\")\n",
    "print(f\"mean: {mean}\")\n",
    "print(f\"variance: {variance}\")\n",
    "print(f\"mode: {mode}\")\n",
    "\n",
    "# print(x_train)\n",
    "print(f\"x_train shape: {x_train.shape}\")"
   ]
  },
  {
   "cell_type": "markdown",
   "metadata": {},
   "source": [
    "### Text Vectorization For Actors & Genres"
   ]
  },
  {
   "cell_type": "code",
   "execution_count": 26,
   "metadata": {},
   "outputs": [
    {
     "name": "stderr",
     "output_type": "stream",
     "text": [
      "2021-11-11 14:20:44.166799: I tensorflow/core/grappler/optimizers/custom_graph_optimizer_registry.cc:112] Plugin optimizer for device_type GPU is enabled.\n"
     ]
    }
   ],
   "source": [
    "VOCAB_SIZE = 201277\n",
    "encoder = preprocessing.TextVectorization(max_tokens=VOCAB_SIZE, output_sequence_length=6)\n",
    "features = np.array(df['training_col'])\n",
    "encoder.adapt(features)\n",
    "\n",
    "# this line of code doesnt work on windows for some reason\n",
    "# print(np.array(encoder.get_vocabulary()))"
   ]
  },
  {
   "cell_type": "markdown",
   "metadata": {},
   "source": [
    "### Text Vectorization Sanity Check"
   ]
  },
  {
   "cell_type": "code",
   "execution_count": 27,
   "metadata": {},
   "outputs": [
    {
     "name": "stdout",
     "output_type": "stream",
     "text": [
      "Horror DakotaFanning JosePabloCantillo\n"
     ]
    },
    {
     "data": {
      "text/plain": [
       "array([   5,  325, 3016,    0,    0,    0])"
      ]
     },
     "execution_count": 27,
     "metadata": {},
     "output_type": "execute_result"
    }
   ],
   "source": [
    "print(movie_df['training_col'].to_numpy()[0])\n",
    "x = encoder(movie_df['training_col'].to_numpy()[0]).numpy()\n",
    "x"
   ]
  },
  {
   "cell_type": "markdown",
   "metadata": {},
   "source": [
    "<br><br><br><br><br><br><br><br><br><br>\n",
    "# Feed Forward Neural Network"
   ]
  },
  {
   "cell_type": "markdown",
   "metadata": {},
   "source": [
    "### Building The FFNN"
   ]
  },
  {
   "cell_type": "code",
   "execution_count": 56,
   "metadata": {},
   "outputs": [
    {
     "name": "stdout",
     "output_type": "stream",
     "text": [
      "Model: \"sequential_13\"\n",
      "_________________________________________________________________\n",
      "Layer (type)                 Output Shape              Param #   \n",
      "=================================================================\n",
      "text_vectorization_2 (TextVe (None, 6)                 0         \n",
      "_________________________________________________________________\n",
      "embedding_13 (Embedding)     (None, 6, 500)            20632500  \n",
      "_________________________________________________________________\n",
      "flatten_4 (Flatten)          (None, 3000)              0         \n",
      "_________________________________________________________________\n",
      "dense_29 (Dense)             (None, 50)                150050    \n",
      "_________________________________________________________________\n",
      "dense_30 (Dense)             (None, 100)               5100      \n",
      "_________________________________________________________________\n",
      "dense_31 (Dense)             (None, 100)               10100     \n",
      "_________________________________________________________________\n",
      "dense_32 (Dense)             (None, 100)               10100     \n",
      "_________________________________________________________________\n",
      "dense_33 (Dense)             (None, 1)                 101       \n",
      "=================================================================\n",
      "Total params: 20,807,951\n",
      "Trainable params: 20,807,951\n",
      "Non-trainable params: 0\n",
      "_________________________________________________________________\n"
     ]
    }
   ],
   "source": [
    "model_FFNN = tf.keras.Sequential([\n",
    "encoder,\n",
    "    Layer.Embedding(\n",
    "        input_dim=len(encoder.get_vocabulary()),\n",
    "        output_dim=500),\n",
    "    Layer.Flatten(input_shape=(16989, 1)),\n",
    "    Layer.Dense(50),\n",
    "    Layer.Dense(100),\n",
    "    Layer.Dense(100),\n",
    "    Layer.Dense(100),\n",
    "    Layer.Dense(1)\n",
    "])\n",
    "\n",
    "model_FFNN.summary()\n",
    "\n",
    "model_FFNN.compile(loss=tf.keras.losses.MeanSquaredError(),\n",
    "            optimizer=tf.keras.optimizers.Adam(1e-4))\n",
    "\n",
    "\n"
   ]
  },
  {
   "cell_type": "markdown",
   "metadata": {},
   "source": [
    "### Training The FFNN"
   ]
  },
  {
   "cell_type": "code",
   "execution_count": 55,
   "metadata": {},
   "outputs": [
    {
     "name": "stdout",
     "output_type": "stream",
     "text": [
      "Epoch 1/5\n",
      "Epoch 2/5\n",
      "Epoch 3/5\n",
      "Epoch 4/5\n",
      "Epoch 5/5\n",
      "177/177 [==============================] - 1s 6ms/step - loss: 1.6836\n",
      "Test loss: 1.6835546493530273\n"
     ]
    }
   ],
   "source": [
    "model_FFNN.fit(\n",
    "    x_train,\n",
    "    y_train, \n",
    "    batch_size=512,\n",
    "    epochs=5,\n",
    "    verbose=10)\n",
    "\n",
    "score = model_FFNN.evaluate(x_test, y_test)\n",
    "print('Test loss:', score)"
   ]
  },
  {
   "cell_type": "markdown",
   "metadata": {},
   "source": [
    "### Validating FFNN On **Train** Data"
   ]
  },
  {
   "cell_type": "code",
   "execution_count": 59,
   "metadata": {},
   "outputs": [
    {
     "name": "stdout",
     "output_type": "stream",
     "text": [
      "Prediction for index: 0\n",
      "input ---> Horror DakotaFanning JosePabloCantillo\n",
      "actual output ---> 7.2\n",
      "predicted output ---> [[-0.04434437]]\n",
      "\n",
      "Prediction for index: 1\n",
      "input ---> Action AdamRayner ElizaDushku IanOgilvy JamesRemar RogerMoore\n",
      "actual output ---> 5.8\n",
      "predicted output ---> [[0.05607103]]\n",
      "\n",
      "Prediction for index: 2\n",
      "input ---> Action SteveBoyle NicRhind RobertHobbs ChrisWilliamMartin TylerJohnston\n",
      "actual output ---> 7.3\n",
      "predicted output ---> [[0.05618138]]\n",
      "\n",
      "Prediction for index: 3\n",
      "input ---> Action SigourneyWeaver EugeneKhumbanyiwa RobertHobbs CarlyPope BrandonAuret\n",
      "actual output ---> 7.4\n",
      "predicted output ---> [[-0.05545556]]\n",
      "\n",
      "Prediction for index: 4\n",
      "input ---> Action AdriannePalicki MichaelJaiWhite TyOlsson PascaleHutton SamJaeger\n",
      "actual output ---> 5.2\n",
      "predicted output ---> [[0.01173999]]\n",
      "\n"
     ]
    },
    {
     "name": "stderr",
     "output_type": "stream",
     "text": [
      "2021-11-11 18:28:28.970278: I tensorflow/core/grappler/optimizers/custom_graph_optimizer_registry.cc:112] Plugin optimizer for device_type GPU is enabled.\n"
     ]
    }
   ],
   "source": [
    "def print_train_prediction_ffnn(index):\n",
    "    print(f\"Prediction for index: {index}\")\n",
    "    \n",
    "    print(f\"input ---> {x_train[index]}\")\n",
    "    print(f\"actual output ---> {y_train[index]}\")\n",
    "    print(f\"predicted output ---> {model_FFNN.predict(x_test[index])}\\n\")\n",
    "\n",
    "print_train_prediction_ffnn(0)\n",
    "print_train_prediction_ffnn(1)\n",
    "print_train_prediction_ffnn(2)\n",
    "print_train_prediction_ffnn(3)\n",
    "print_train_prediction_ffnn(4)"
   ]
  },
  {
   "cell_type": "markdown",
   "metadata": {},
   "source": [
    "### Validating FFNN On **Test** Data"
   ]
  },
  {
   "cell_type": "code",
   "execution_count": null,
   "metadata": {},
   "outputs": [],
   "source": [
    "def print_test_prediction_ffnn(index):\n",
    "    print(f\"Prediction for index: {index}\")\n",
    "    \n",
    "    print(f\"input ---> {x_test[index]}\")\n",
    "    print(f\"actual output ---> {y_test[index]}\")\n",
    "    print(f\"predicted output ---> {model_FFNN.predict(x_test[index])}\\n\")\n",
    "        \n",
    "print_test_prediction_ffnn(0)\n",
    "print_test_prediction_ffnn(1)\n",
    "print_test_prediction_ffnn(2)\n",
    "print_test_prediction_ffnn(3)\n",
    "print_test_prediction_ffnn(4)"
   ]
  },
  {
   "cell_type": "markdown",
   "metadata": {},
   "source": [
    "<br><br><br><br><br><br><br><br><br><br>"
   ]
  },
  {
   "cell_type": "markdown",
   "metadata": {},
   "source": [
    "# Recurrent Neural Network"
   ]
  },
  {
   "cell_type": "markdown",
   "metadata": {},
   "source": [
    "### Building The RNN"
   ]
  },
  {
   "cell_type": "code",
   "execution_count": 60,
   "metadata": {},
   "outputs": [
    {
     "name": "stdout",
     "output_type": "stream",
     "text": [
      "Model: \"sequential_16\"\n",
      "_________________________________________________________________\n",
      "Layer (type)                 Output Shape              Param #   \n",
      "=================================================================\n",
      "text_vectorization_2 (TextVe (None, 6)                 0         \n",
      "_________________________________________________________________\n",
      "embedding_16 (Embedding)     (None, 6, 500)            20632500  \n",
      "_________________________________________________________________\n",
      "simple_rnn_13 (SimpleRNN)    (None, 100)               60100     \n",
      "_________________________________________________________________\n",
      "dense_38 (Dense)             (None, 100)               10100     \n",
      "_________________________________________________________________\n",
      "dense_39 (Dense)             (None, 1)                 101       \n",
      "=================================================================\n",
      "Total params: 20,702,801\n",
      "Trainable params: 20,702,801\n",
      "Non-trainable params: 0\n",
      "_________________________________________________________________\n"
     ]
    }
   ],
   "source": [
    "model_RNN = tf.keras.Sequential([\n",
    "encoder,\n",
    "    Layer.Embedding(\n",
    "        input_dim=len(encoder.get_vocabulary()),\n",
    "        output_dim=500),\n",
    "    Layer.SimpleRNN(100),\n",
    "    Layer.Dense(100),\n",
    "    Layer.Dense(1)\n",
    "])\n",
    "\n",
    "model_RNN.summary()\n",
    "\n",
    "model_RNN.compile(loss=tf.keras.losses.MeanSquaredError(),\n",
    "            optimizer=tf.keras.optimizers.Adam(1e-4))"
   ]
  },
  {
   "cell_type": "markdown",
   "metadata": {},
   "source": [
    "### Training The RNN"
   ]
  },
  {
   "cell_type": "code",
   "execution_count": 61,
   "metadata": {},
   "outputs": [
    {
     "name": "stdout",
     "output_type": "stream",
     "text": [
      "Epoch 1/5\n"
     ]
    },
    {
     "name": "stderr",
     "output_type": "stream",
     "text": [
      "2021-11-11 18:29:21.485776: I tensorflow/core/grappler/optimizers/custom_graph_optimizer_registry.cc:112] Plugin optimizer for device_type GPU is enabled.\n"
     ]
    },
    {
     "name": "stdout",
     "output_type": "stream",
     "text": [
      "Epoch 2/5\n",
      "Epoch 3/5\n",
      "Epoch 4/5\n",
      "Epoch 5/5\n",
      " 12/177 [=>............................] - ETA: 1s - loss: 0.8012"
     ]
    },
    {
     "name": "stderr",
     "output_type": "stream",
     "text": [
      "2021-11-11 18:29:38.039624: I tensorflow/core/grappler/optimizers/custom_graph_optimizer_registry.cc:112] Plugin optimizer for device_type GPU is enabled.\n"
     ]
    },
    {
     "name": "stdout",
     "output_type": "stream",
     "text": [
      "177/177 [==============================] - 2s 9ms/step - loss: 0.9036\n",
      "Test loss: 0.903617799282074\n"
     ]
    }
   ],
   "source": [
    "model_RNN.fit(\n",
    "    x_train,\n",
    "    y_train, \n",
    "    batch_size=256,\n",
    "    epochs=5,\n",
    "    verbose=5)\n",
    "\n",
    "score = model_RNN.evaluate(x_test, y_test)\n",
    "print('Test loss:', score)"
   ]
  },
  {
   "cell_type": "markdown",
   "metadata": {},
   "source": [
    "### Validating RNN On **Train** Data"
   ]
  },
  {
   "cell_type": "code",
   "execution_count": 62,
   "metadata": {},
   "outputs": [
    {
     "name": "stdout",
     "output_type": "stream",
     "text": [
      "Prediction for index: 0\n",
      "input ---> Horror DakotaFanning JosePabloCantillo\n",
      "actual output ---> 7.2\n",
      "predicted output ---> [[6.132244]]\n",
      "\n",
      "Prediction for index: 1\n",
      "input ---> Action AdamRayner ElizaDushku IanOgilvy JamesRemar RogerMoore\n",
      "actual output ---> 5.8\n",
      "predicted output ---> [[5.89359]]\n",
      "\n",
      "Prediction for index: 2\n",
      "input ---> Action SteveBoyle NicRhind RobertHobbs ChrisWilliamMartin TylerJohnston\n",
      "actual output ---> 7.3\n",
      "predicted output ---> [[6.7131147]]\n",
      "\n",
      "Prediction for index: 3\n",
      "input ---> Action SigourneyWeaver EugeneKhumbanyiwa RobertHobbs CarlyPope BrandonAuret\n",
      "actual output ---> 7.4\n",
      "predicted output ---> [[5.921199]]\n",
      "\n",
      "Prediction for index: 4\n",
      "input ---> Action AdriannePalicki MichaelJaiWhite TyOlsson PascaleHutton SamJaeger\n",
      "actual output ---> 5.2\n",
      "predicted output ---> [[5.2969275]]\n",
      "\n"
     ]
    },
    {
     "name": "stderr",
     "output_type": "stream",
     "text": [
      "2021-11-11 18:29:39.730935: I tensorflow/core/grappler/optimizers/custom_graph_optimizer_registry.cc:112] Plugin optimizer for device_type GPU is enabled.\n"
     ]
    }
   ],
   "source": [
    "def print_train_prediction_rnn(index):\n",
    "    print(f\"Prediction for index: {index}\")\n",
    "    \n",
    "    print(f\"input ---> {x_train[index]}\")\n",
    "    print(f\"actual output ---> {y_train[index]}\")\n",
    "    print(f\"predicted output ---> {model_RNN.predict(x_test[index])}\\n\")\n",
    "\n",
    "print_train_prediction_rnn(0)\n",
    "print_train_prediction_rnn(1)\n",
    "print_train_prediction_rnn(2)\n",
    "print_train_prediction_rnn(3)\n",
    "print_train_prediction_rnn(4)\n"
   ]
  },
  {
   "cell_type": "markdown",
   "metadata": {},
   "source": [
    "### Validating RNN On **Test** Data"
   ]
  },
  {
   "cell_type": "code",
   "execution_count": 63,
   "metadata": {},
   "outputs": [
    {
     "name": "stdout",
     "output_type": "stream",
     "text": [
      "Prediction for index: 0\n",
      "input ---> ['Drama DannyGlover RonPerlman LindaHamilton ZoeWeizenbaum DavidStrathairn']\n",
      "actual output ---> 6.1\n",
      "predicted output ---> [[6.132244]]\n",
      "\n",
      "Prediction for index: 1\n",
      "input ---> ['Action Ky-ManiMarley SpraggaBenz PaulCampbell LouieRankin WyclefJean']\n",
      "actual output ---> 7.4\n",
      "predicted output ---> [[5.89359]]\n",
      "\n",
      "Prediction for index: 2\n",
      "input ---> ['Comedy MatthewMcConaughey JeffreyNordling WillieNelson WoodyHarrelson ZacharyKnighton']\n",
      "actual output ---> 4.7\n",
      "predicted output ---> [[6.7131147]]\n",
      "\n",
      "Prediction for index: 3\n",
      "input ---> ['Drama PaulWalker PiperPerabo LambertWilson LindaCardellini ShawnHatosy']\n",
      "actual output ---> 6.0\n",
      "predicted output ---> [[5.921199]]\n",
      "\n",
      "Prediction for index: 4\n",
      "input ---> ['Comedy MollyShannon WillFerrell ElaineHendrix HarlandWilliams TomGreen']\n",
      "actual output ---> 5.0\n",
      "predicted output ---> [[5.2969275]]\n",
      "\n"
     ]
    }
   ],
   "source": [
    "def print_test_prediction_rnn(index):\n",
    "    print(f\"Prediction for index: {index}\")\n",
    "    \n",
    "    print(f\"input ---> {x_test[index]}\")\n",
    "    print(f\"actual output ---> {y_test[index]}\")\n",
    "    print(f\"predicted output ---> {model_RNN.predict(x_test[index])}\\n\")\n",
    "        \n",
    "print_test_prediction_rnn(0)\n",
    "print_test_prediction_rnn(1)\n",
    "print_test_prediction_rnn(2)\n",
    "print_test_prediction_rnn(3)\n",
    "print_test_prediction_rnn(4)"
   ]
  },
  {
   "cell_type": "code",
   "execution_count": null,
   "metadata": {},
   "outputs": [],
   "source": [
    "# print(df.loc[df['title'] == 'Sully']['vote_average'])\n",
    "\n",
    "# sully_input = 'TomHanks AaronEckhart LauraLinney AnnaGunn AutumnReeser Drama'\n",
    "# validation_prediction = model_FFNN.predict(np.array([sully_input]))\n",
    "# print(validation_prediction[0])"
   ]
  }
 ],
 "metadata": {
  "interpreter": {
   "hash": "11f1dc213e07634baa4c5c321dec03c05dafae643c50f20e6d1a492290c05dc2"
  },
  "kernelspec": {
   "display_name": "Python 3.9.1 64-bit",
   "name": "python3"
  },
  "language_info": {
   "codemirror_mode": {
    "name": "ipython",
    "version": 3
   },
   "file_extension": ".py",
   "mimetype": "text/x-python",
   "name": "python",
   "nbconvert_exporter": "python",
   "pygments_lexer": "ipython3",
   "version": "3.9.7"
  },
  "orig_nbformat": 4
 },
 "nbformat": 4,
 "nbformat_minor": 2
}
