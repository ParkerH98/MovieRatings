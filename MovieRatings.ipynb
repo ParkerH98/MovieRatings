{
 "cells": [
  {
   "cell_type": "markdown",
   "metadata": {},
   "source": [
    "# Imports\n"
   ]
  },
  {
   "cell_type": "code",
   "execution_count": 1,
   "metadata": {},
   "outputs": [],
   "source": [
    "import tensorboard\n",
    "import matplotlib.pyplot as plot\n",
    "import statistics\n",
    "from DatasetFormatting import *\n",
    "import tensorflow.keras.layers.experimental.preprocessing as preprocessing\n",
    "import numpy as np\n",
    "import tensorflow.keras.layers as Layer\n",
    "import tensorflow as tf\n",
    "import pandas as pd\n",
    "%load_ext tensorboard\n",
    "from sklearn.model_selection import train_test_split\n",
    "import sklearn.naive_bayes as NB\n"
   ]
  },
  {
   "cell_type": "markdown",
   "metadata": {},
   "source": [
    "# Preparing Training Dataset\n"
   ]
  },
  {
   "cell_type": "code",
   "execution_count": 2,
   "metadata": {},
   "outputs": [
    {
     "name": "stdout",
     "output_type": "stream",
     "text": [
      "STD: 0.9976277124059775\n",
      "mean: 6.165617412034789\n",
      "variance: 0.9952610525603838\n",
      "mode: 6.5\n",
      "x_train shape: (16989,)\n"
     ]
    },
    {
     "data": {
      "image/png": "[encoded data removed]",
      "text/plain": [
       "<Figure size 1008x504 with 1 Axes>"
      ]
     },
     "metadata": {
      "needs_background": "light"
     },
     "output_type": "display_data"
    }
   ],
   "source": [
    "np.random.seed(1)\n",
    "tf.random.set_seed(1)\n",
    "\n",
    "movie_df = getData()\n",
    "movie_df.drop(['vote_count'], axis=1)\n",
    "\n",
    "data_count = movie_df.shape[0]\n",
    "training_data_count = int(data_count * 0.75) + 1\n",
    "test_data_count = data_count - training_data_count\n",
    "\n",
    "y_train = np.array(movie_df['vote_average'].head(training_data_count))\n",
    "x_train = np.array(movie_df['training_col'].head(training_data_count))\n",
    "\n",
    "y_test = np.array(movie_df['vote_average'].tail(test_data_count))\n",
    "x_test = np.array(movie_df[['training_col']].tail(test_data_count))\n",
    "\n",
    "std = statistics.stdev(movie_df['vote_average'].to_list())\n",
    "mean = statistics.mean(movie_df['vote_average'].to_list())\n",
    "variance = statistics.variance(movie_df['vote_average'].to_list())\n",
    "mode = statistics.mode(movie_df['vote_average'].to_list())\n",
    "\n",
    "print(f\"STD: {std}\")\n",
    "print(f\"mean: {mean}\")\n",
    "print(f\"variance: {variance}\")\n",
    "print(f\"mode: {mode}\")\n",
    "\n",
    "# print(x_train)\n",
    "print(f\"x_train shape: {x_train.shape}\")\n",
    "\n",
    "plot.figure(figsize=[14, 7])\n",
    "scores = movie_df['vote_average'].to_list()\n",
    "unique, counts = np.unique(scores, return_counts=True)\n",
    "plot.bar(unique, counts)\n",
    "\n",
    "plot.show()\n"
   ]
  },
  {
   "cell_type": "markdown",
   "metadata": {},
   "source": [
    "### Text Vectorization For Actors & Genres\n"
   ]
  },
  {
   "cell_type": "code",
   "execution_count": 3,
   "metadata": {},
   "outputs": [
    {
     "name": "stdout",
     "output_type": "stream",
     "text": [
      "Metal device set to: Apple M1 Max\n",
      "\n",
      "systemMemory: 32.00 GB\n",
      "maxCacheSize: 10.67 GB\n",
      "\n"
     ]
    },
    {
     "name": "stderr",
     "output_type": "stream",
     "text": [
      "2021-11-24 14:26:30.714515: I tensorflow/core/common_runtime/pluggable_device/pluggable_device_factory.cc:305] Could not identify NUMA node of platform GPU ID 0, defaulting to 0. Your kernel may not have been built with NUMA support.\n",
      "2021-11-24 14:26:30.714816: I tensorflow/core/common_runtime/pluggable_device/pluggable_device_factory.cc:271] Created TensorFlow device (/job:localhost/replica:0/task:0/device:GPU:0 with 0 MB memory) -> physical PluggableDevice (device: 0, name: METAL, pci bus id: <undefined>)\n",
      "2021-11-24 14:26:30.745567: I tensorflow/compiler/mlir/mlir_graph_optimization_pass.cc:185] None of the MLIR Optimization Passes are enabled (registered 2)\n",
      "2021-11-24 14:26:30.747891: W tensorflow/core/platform/profile_utils/cpu_utils.cc:128] Failed to get CPU frequency: 0 Hz\n",
      "2021-11-24 14:26:30.783445: I tensorflow/core/grappler/optimizers/custom_graph_optimizer_registry.cc:112] Plugin optimizer for device_type GPU is enabled.\n"
     ]
    }
   ],
   "source": [
    "VOCAB_SIZE = 201277\n",
    "encoder = preprocessing.TextVectorization(\n",
    "    max_tokens=VOCAB_SIZE, output_sequence_length=6)\n",
    "features = np.array(movie_df['training_col'])\n",
    "encoder.adapt(features)\n",
    "\n",
    "# this line of code doesnt work on windows for some reason\n",
    "# print(np.array(encoder.get_vocabulary()))\n"
   ]
  },
  {
   "cell_type": "markdown",
   "metadata": {},
   "source": [
    "### Text Vectorization Sanity Check\n"
   ]
  },
  {
   "cell_type": "code",
   "execution_count": 4,
   "metadata": {},
   "outputs": [
    {
     "name": "stdout",
     "output_type": "stream",
     "text": [
      "Horror DakotaFanning JosePabloCantillo\n"
     ]
    },
    {
     "data": {
      "text/plain": [
       "array([   5,  325, 3016,    0,    0,    0])"
      ]
     },
     "execution_count": 4,
     "metadata": {},
     "output_type": "execute_result"
    }
   ],
   "source": [
    "print(movie_df['training_col'].to_numpy()[0])\n",
    "x = encoder(movie_df['training_col'].to_numpy()[0]).numpy()\n",
    "x\n"
   ]
  },
  {
   "cell_type": "markdown",
   "metadata": {},
   "source": [
    "<br><br><br><br><br><br><br><br><br><br><br><br><br><br><br><br><br><br><br><br>\n",
    "\n",
    "# Feed Forward Neural Network\n"
   ]
  },
  {
   "cell_type": "markdown",
   "metadata": {},
   "source": [
    "### Building The FFNN\n"
   ]
  },
  {
   "cell_type": "code",
   "execution_count": 77,
   "metadata": {},
   "outputs": [
    {
     "name": "stdout",
     "output_type": "stream",
     "text": [
      "Model: \"sequential_21\"\n",
      "_________________________________________________________________\n",
      "Layer (type)                 Output Shape              Param #   \n",
      "=================================================================\n",
      "text_vectorization (TextVect (None, 6)                 0         \n",
      "_________________________________________________________________\n",
      "embedding_21 (Embedding)     (None, 6, 500)            20632500  \n",
      "_________________________________________________________________\n",
      "flatten_5 (Flatten)          (None, 3000)              0         \n",
      "_________________________________________________________________\n",
      "dense_85 (Dense)             (None, 56)                168056    \n",
      "_________________________________________________________________\n",
      "dense_86 (Dense)             (None, 125)               7125      \n",
      "_________________________________________________________________\n",
      "dense_87 (Dense)             (None, 104)               13104     \n",
      "_________________________________________________________________\n",
      "dense_88 (Dense)             (None, 120)               12600     \n",
      "_________________________________________________________________\n",
      "dense_89 (Dense)             (None, 1)                 121       \n",
      "=================================================================\n",
      "Total params: 20,833,506\n",
      "Trainable params: 20,833,506\n",
      "Non-trainable params: 0\n",
      "_________________________________________________________________\n"
     ]
    }
   ],
   "source": [
    "model_FFNN = tf.keras.Sequential([\n",
    "    encoder,\n",
    "    Layer.Embedding(\n",
    "        input_dim=len(encoder.get_vocabulary()),\n",
    "        output_dim=500),\n",
    "    Layer.Flatten(input_shape=(16989, 1)),\n",
    "    Layer.Dense(56, activation='tanh'),\n",
    "    Layer.Dense(125, activation='tanh'),\n",
    "    Layer.Dense(104, activation='tanh'),\n",
    "    Layer.Dense(120, activation='tanh'),\n",
    "    Layer.Dense(1)\n",
    "])\n",
    "\n",
    "model_FFNN.summary()\n",
    "\n",
    "model_FFNN.compile(loss=tf.keras.losses.MeanSquaredError(),\n",
    "                   optimizer=tf.keras.optimizers.RMSprop(.001))\n"
   ]
  },
  {
   "cell_type": "markdown",
   "metadata": {},
   "source": [
    "### Training The FFNN\n"
   ]
  },
  {
   "cell_type": "code",
   "execution_count": 78,
   "metadata": {},
   "outputs": [
    {
     "name": "stdout",
     "output_type": "stream",
     "text": [
      "Epoch 1/10\n"
     ]
    },
    {
     "name": "stderr",
     "output_type": "stream",
     "text": [
      "2021-11-24 15:25:42.766308: I tensorflow/core/grappler/optimizers/custom_graph_optimizer_registry.cc:112] Plugin optimizer for device_type GPU is enabled.\n"
     ]
    },
    {
     "name": "stdout",
     "output_type": "stream",
     "text": [
      "67/67 [==============================] - 2s 28ms/step - loss: 2.8502\n",
      "Epoch 2/10\n",
      "67/67 [==============================] - 2s 26ms/step - loss: 0.6354\n",
      "Epoch 3/10\n",
      "67/67 [==============================] - 2s 26ms/step - loss: 0.3796\n",
      "Epoch 4/10\n",
      "67/67 [==============================] - 2s 26ms/step - loss: 0.2586\n",
      "Epoch 5/10\n",
      "67/67 [==============================] - 2s 26ms/step - loss: 0.1980\n",
      "Epoch 6/10\n",
      "67/67 [==============================] - 2s 26ms/step - loss: 0.1600\n",
      "Epoch 7/10\n",
      "67/67 [==============================] - 2s 26ms/step - loss: 0.1318\n",
      "Epoch 8/10\n",
      "67/67 [==============================] - 2s 25ms/step - loss: 0.1172\n",
      "Epoch 9/10\n",
      "67/67 [==============================] - 2s 26ms/step - loss: 0.1063\n",
      "Epoch 10/10\n",
      "67/67 [==============================] - 2s 26ms/step - loss: 0.0920\n",
      " 11/177 [>.............................] - ETA: 1s - loss: 0.7370"
     ]
    },
    {
     "name": "stderr",
     "output_type": "stream",
     "text": [
      "2021-11-24 15:26:00.595035: I tensorflow/core/grappler/optimizers/custom_graph_optimizer_registry.cc:112] Plugin optimizer for device_type GPU is enabled.\n"
     ]
    },
    {
     "name": "stdout",
     "output_type": "stream",
     "text": [
      "177/177 [==============================] - 1s 7ms/step - loss: 0.8112\n",
      "Test loss: 0.8111757636070251\n"
     ]
    },
    {
     "data": {
      "image/png": "[encoded data removed]",
      "text/plain": [
       "<Figure size 720x360 with 1 Axes>"
      ]
     },
     "metadata": {
      "needs_background": "light"
     },
     "output_type": "display_data"
    }
   ],
   "source": [
    "history = model_FFNN.fit(\n",
    "    x_train,\n",
    "    y_train,\n",
    "    batch_size=256,\n",
    "    epochs=10,\n",
    "    verbose=1)\n",
    "\n",
    "score = model_FFNN.evaluate(x_test, y_test)\n",
    "print('Test loss:', score)\n",
    "loss_history = history.history['loss']\n",
    "plot.figure(figsize=[10, 5])\n",
    "iterations, = plot.plot(np.linspace(\n",
    "    0, len(loss_history), len(loss_history)), loss_history, color='red')\n",
    "plot.show()\n"
   ]
  },
  {
   "cell_type": "markdown",
   "metadata": {},
   "source": [
    "### Validating FFNN On **Train** Data\n"
   ]
  },
  {
   "cell_type": "code",
   "execution_count": 7,
   "metadata": {},
   "outputs": [
    {
     "name": "stdout",
     "output_type": "stream",
     "text": [
      "Prediction for index: 0\n",
      "input ---> Horror DakotaFanning JosePabloCantillo\n",
      "actual output ---> 7.2\n",
      "predicted output ---> [[6.6577487]]\n",
      "\n",
      "Prediction for index: 1\n",
      "input ---> Action AdamRayner ElizaDushku IanOgilvy JamesRemar RogerMoore\n",
      "actual output ---> 5.8\n",
      "predicted output ---> [[6.0406365]]\n",
      "\n",
      "Prediction for index: 2\n",
      "input ---> Action SteveBoyle NicRhind RobertHobbs ChrisWilliamMartin TylerJohnston\n",
      "actual output ---> 7.3\n",
      "predicted output ---> [[6.62817]]\n",
      "\n",
      "Prediction for index: 3\n",
      "input ---> Action SigourneyWeaver EugeneKhumbanyiwa RobertHobbs CarlyPope BrandonAuret\n",
      "actual output ---> 7.4\n",
      "predicted output ---> [[6.815698]]\n",
      "\n",
      "Prediction for index: 4\n",
      "input ---> Action AdriannePalicki MichaelJaiWhite TyOlsson PascaleHutton SamJaeger\n",
      "actual output ---> 5.2\n",
      "predicted output ---> [[5.9267154]]\n",
      "\n"
     ]
    },
    {
     "name": "stderr",
     "output_type": "stream",
     "text": [
      "2021-11-24 14:26:39.105648: I tensorflow/core/grappler/optimizers/custom_graph_optimizer_registry.cc:112] Plugin optimizer for device_type GPU is enabled.\n"
     ]
    }
   ],
   "source": [
    "def print_train_prediction_ffnn(index):\n",
    "    print(f\"Prediction for index: {index}\")\n",
    "\n",
    "    print(f\"input ---> {x_train[index]}\")\n",
    "    print(f\"actual output ---> {y_train[index]}\")\n",
    "    print(f\"predicted output ---> {model_FFNN.predict(x_test[index])}\\n\")\n",
    "\n",
    "\n",
    "print_train_prediction_ffnn(0)\n",
    "print_train_prediction_ffnn(1)\n",
    "print_train_prediction_ffnn(2)\n",
    "print_train_prediction_ffnn(3)\n",
    "print_train_prediction_ffnn(4)\n"
   ]
  },
  {
   "cell_type": "markdown",
   "metadata": {},
   "source": [
    "### Validating FFNN On **Test** Data\n"
   ]
  },
  {
   "cell_type": "code",
   "execution_count": 8,
   "metadata": {},
   "outputs": [
    {
     "name": "stdout",
     "output_type": "stream",
     "text": [
      "Prediction for index: 0\n",
      "input ---> ['Drama DannyGlover RonPerlman LindaHamilton ZoeWeizenbaum DavidStrathairn']\n",
      "actual output ---> 6.1\n",
      "predicted output ---> [[6.6577487]]\n",
      "\n",
      "Prediction for index: 1\n",
      "input ---> ['Action Ky-ManiMarley SpraggaBenz PaulCampbell LouieRankin WyclefJean']\n",
      "actual output ---> 7.4\n",
      "predicted output ---> [[6.0406365]]\n",
      "\n",
      "Prediction for index: 2\n",
      "input ---> ['Comedy MatthewMcConaughey JeffreyNordling WillieNelson WoodyHarrelson ZacharyKnighton']\n",
      "actual output ---> 4.7\n",
      "predicted output ---> [[6.62817]]\n",
      "\n",
      "Prediction for index: 3\n",
      "input ---> ['Drama PaulWalker PiperPerabo LambertWilson LindaCardellini ShawnHatosy']\n",
      "actual output ---> 6.0\n",
      "predicted output ---> [[6.815698]]\n",
      "\n",
      "Prediction for index: 4\n",
      "input ---> ['Comedy MollyShannon WillFerrell ElaineHendrix HarlandWilliams TomGreen']\n",
      "actual output ---> 5.0\n",
      "predicted output ---> [[5.9267154]]\n",
      "\n"
     ]
    }
   ],
   "source": [
    "def print_test_prediction_ffnn(index):\n",
    "    print(f\"Prediction for index: {index}\")\n",
    "\n",
    "    print(f\"input ---> {x_test[index]}\")\n",
    "    print(f\"actual output ---> {y_test[index]}\")\n",
    "    print(f\"predicted output ---> {model_FFNN.predict(x_test[index])}\\n\")\n",
    "\n",
    "\n",
    "print_test_prediction_ffnn(0)\n",
    "print_test_prediction_ffnn(1)\n",
    "print_test_prediction_ffnn(2)\n",
    "print_test_prediction_ffnn(3)\n",
    "print_test_prediction_ffnn(4)\n"
   ]
  },
  {
   "cell_type": "markdown",
   "metadata": {},
   "source": [
    "<br><br><br><br><br><br><br><br><br><br>\n"
   ]
  },
  {
   "cell_type": "markdown",
   "metadata": {},
   "source": [
    "<br><br><br><br><br><br><br><br><br><br><br><br><br><br><br><br><br><br><br><br>\n",
    "# Recurrent Neural Network\n"
   ]
  },
  {
   "cell_type": "markdown",
   "metadata": {},
   "source": [
    "### Building The RNN\n"
   ]
  },
  {
   "cell_type": "code",
   "execution_count": 79,
   "metadata": {},
   "outputs": [],
   "source": [
    "model_RNN = tf.keras.Sequential([\n",
    "    encoder,\n",
    "    Layer.Embedding(\n",
    "        input_dim=len(encoder.get_vocabulary()),\n",
    "        output_dim=450),\n",
    "    Layer.SimpleRNN(200, activation='relu'),\n",
    "    Layer.Dense(60, activation='relu'),\n",
    "    Layer.Dense(20, activation='relu'),\n",
    "    # Layer.Dense(60, activation='relu'),\n",
    "    # Layer.Dense(80, activation='relu'),\n",
    "    Layer.Dense(1)\n",
    "])\n",
    "\n",
    "# model_RNN.summary()\n",
    "\n",
    "model_RNN.compile(loss=tf.keras.losses.MeanSquaredError(),\n",
    "                  optimizer=tf.keras.optimizers.RMSprop(.002))\n"
   ]
  },
  {
   "cell_type": "markdown",
   "metadata": {},
   "source": [
    "### Training The RNN\n"
   ]
  },
  {
   "cell_type": "code",
   "execution_count": 86,
   "metadata": {},
   "outputs": [
    {
     "name": "stdout",
     "output_type": "stream",
     "text": [
      "Epoch 1/5\n",
      "34/34 [==============================] - 3s 72ms/step - loss: 1.2992\n",
      "Epoch 2/5\n",
      "34/34 [==============================] - 2s 72ms/step - loss: 0.8730\n",
      "Epoch 3/5\n",
      "34/34 [==============================] - 2s 71ms/step - loss: 0.8009\n",
      "Epoch 4/5\n",
      "34/34 [==============================] - 2s 70ms/step - loss: 0.7217\n",
      "Epoch 5/5\n",
      "34/34 [==============================] - 2s 70ms/step - loss: 0.6557\n",
      "177/177 [==============================] - 2s 12ms/step - loss: 2.2070\n",
      "Test loss: 2.2069849967956543\n"
     ]
    },
    {
     "data": {
      "image/png": "[encoded data removed]",
      "text/plain": [
       "<Figure size 720x360 with 1 Axes>"
      ]
     },
     "metadata": {
      "needs_background": "light"
     },
     "output_type": "display_data"
    }
   ],
   "source": [
    "history = model_RNN.fit(\n",
    "    x_train,\n",
    "    y_train,\n",
    "    batch_size=512,\n",
    "    epochs=,\n",
    "    verbose=1)\n",
    "\n",
    "score = model_RNN.evaluate(x_test, y_test)\n",
    "print('Test loss:', score)\n",
    "\n",
    "loss_history = history.history['loss']\n",
    "plot.figure(figsize=[10, 5])\n",
    "iterations, = plot.plot(np.linspace(\n",
    "    0, len(loss_history), len(loss_history)), loss_history, color='red')\n",
    "plot.show()\n"
   ]
  },
  {
   "cell_type": "markdown",
   "metadata": {},
   "source": [
    "### Validating RNN On **Train** Data\n"
   ]
  },
  {
   "cell_type": "code",
   "execution_count": 11,
   "metadata": {},
   "outputs": [
    {
     "name": "stdout",
     "output_type": "stream",
     "text": [
      "Prediction for index: 0\n",
      "input ---> Horror DakotaFanning JosePabloCantillo\n",
      "actual output ---> 7.2\n",
      "predicted output ---> [[6.1839967]]\n",
      "\n",
      "Prediction for index: 1\n",
      "input ---> Action AdamRayner ElizaDushku IanOgilvy JamesRemar RogerMoore\n",
      "actual output ---> 5.8\n",
      "predicted output ---> [[5.2453427]]\n",
      "\n",
      "Prediction for index: 2\n",
      "input ---> Action SteveBoyle NicRhind RobertHobbs ChrisWilliamMartin TylerJohnston\n",
      "actual output ---> 7.3\n",
      "predicted output ---> [[6.1285696]]\n",
      "\n",
      "Prediction for index: 3\n",
      "input ---> Action SigourneyWeaver EugeneKhumbanyiwa RobertHobbs CarlyPope BrandonAuret\n",
      "actual output ---> 7.4\n",
      "predicted output ---> [[5.937744]]\n",
      "\n",
      "Prediction for index: 4\n",
      "input ---> Action AdriannePalicki MichaelJaiWhite TyOlsson PascaleHutton SamJaeger\n",
      "actual output ---> 5.2\n",
      "predicted output ---> [[5.179338]]\n",
      "\n"
     ]
    },
    {
     "name": "stderr",
     "output_type": "stream",
     "text": [
      "2021-11-24 14:27:00.565410: I tensorflow/core/grappler/optimizers/custom_graph_optimizer_registry.cc:112] Plugin optimizer for device_type GPU is enabled.\n"
     ]
    }
   ],
   "source": [
    "def print_train_prediction_rnn(index):\n",
    "    print(f\"Prediction for index: {index}\")\n",
    "\n",
    "    print(f\"input ---> {x_train[index]}\")\n",
    "    print(f\"actual output ---> {y_train[index]}\")\n",
    "    print(f\"predicted output ---> {model_RNN.predict(x_test[index])}\\n\")\n",
    "\n",
    "\n",
    "print_train_prediction_rnn(0)\n",
    "print_train_prediction_rnn(1)\n",
    "print_train_prediction_rnn(2)\n",
    "print_train_prediction_rnn(3)\n",
    "print_train_prediction_rnn(4)\n"
   ]
  },
  {
   "cell_type": "markdown",
   "metadata": {},
   "source": [
    "### Validating RNN On **Test** Data\n"
   ]
  },
  {
   "cell_type": "code",
   "execution_count": 12,
   "metadata": {},
   "outputs": [
    {
     "name": "stdout",
     "output_type": "stream",
     "text": [
      "Prediction for index: 0\n",
      "input ---> ['Drama DannyGlover RonPerlman LindaHamilton ZoeWeizenbaum DavidStrathairn']\n",
      "actual output ---> 6.1\n",
      "predicted output ---> [[6.1839967]]\n",
      "\n",
      "Prediction for index: 1\n",
      "input ---> ['Action Ky-ManiMarley SpraggaBenz PaulCampbell LouieRankin WyclefJean']\n",
      "actual output ---> 7.4\n",
      "predicted output ---> [[5.2453427]]\n",
      "\n",
      "Prediction for index: 2\n",
      "input ---> ['Comedy MatthewMcConaughey JeffreyNordling WillieNelson WoodyHarrelson ZacharyKnighton']\n",
      "actual output ---> 4.7\n",
      "predicted output ---> [[6.1285696]]\n",
      "\n",
      "Prediction for index: 3\n",
      "input ---> ['Drama PaulWalker PiperPerabo LambertWilson LindaCardellini ShawnHatosy']\n",
      "actual output ---> 6.0\n",
      "predicted output ---> [[5.937744]]\n",
      "\n",
      "Prediction for index: 4\n",
      "input ---> ['Comedy MollyShannon WillFerrell ElaineHendrix HarlandWilliams TomGreen']\n",
      "actual output ---> 5.0\n",
      "predicted output ---> [[5.179338]]\n",
      "\n"
     ]
    }
   ],
   "source": [
    "def print_test_prediction_rnn(index):\n",
    "    print(f\"Prediction for index: {index}\")\n",
    "\n",
    "    print(f\"input ---> {x_test[index]}\")\n",
    "    print(f\"actual output ---> {y_test[index]}\")\n",
    "    print(f\"predicted output ---> {model_RNN.predict(x_test[index])}\\n\")\n",
    "\n",
    "\n",
    "print_test_prediction_rnn(0)\n",
    "print_test_prediction_rnn(1)\n",
    "print_test_prediction_rnn(2)\n",
    "print_test_prediction_rnn(3)\n",
    "print_test_prediction_rnn(4)\n"
   ]
  },
  {
   "cell_type": "markdown",
   "metadata": {},
   "source": [
    "<br><br><br><br><br><br><br><br><br><br><br><br><br><br><br><br><br><br><br><br>\n",
    "\n",
    "# Niave Bayes Model\n"
   ]
  },
  {
   "cell_type": "code",
   "execution_count": 15,
   "metadata": {},
   "outputs": [
    {
     "name": "stdout",
     "output_type": "stream",
     "text": [
      "Total Correct Ratio: 14759/16989\n",
      "0.8687385955618341\n"
     ]
    },
    {
     "data": {
      "image/png": "[encoded data removed]",
      "text/plain": [
       "<Figure size 720x720 with 1 Axes>"
      ]
     },
     "metadata": {
      "needs_background": "light"
     },
     "output_type": "display_data"
    }
   ],
   "source": [
    "def naiveBayes(X, y):\n",
    "    NBmodel = NB.CategoricalNB()\n",
    "    NBmodel = NBmodel.fit(X, y)\n",
    "    return NBmodel\n",
    "\n",
    "\n",
    "def prepareForNB(data):\n",
    "    all_actors = data['cast'].to_list()\n",
    "    genres = data['genres'].to_list()\n",
    "\n",
    "    X = []\n",
    "    unique_keys = {'': 0}\n",
    "    unique_key = 1\n",
    "\n",
    "    for i in range(0, len(all_actors)):\n",
    "        row = []\n",
    "\n",
    "        raw_row = all_actors[i].split()\n",
    "        raw_row.insert(0, genres[i])\n",
    "        if len(raw_row) < 6:\n",
    "            for i in range(0, 6 - len(raw_row)):\n",
    "                raw_row.append('')\n",
    "\n",
    "        for item in raw_row:\n",
    "            if item not in unique_keys:\n",
    "                unique_keys[item] = unique_key\n",
    "                unique_key += 1\n",
    "            row.append(unique_keys[item])\n",
    "\n",
    "        X.append(row)\n",
    "\n",
    "    genres = data['genres'].to_list()\n",
    "\n",
    "    ratings = data['vote_average'].to_list()\n",
    "    for i in range(0, len(ratings)):\n",
    "        ratings[i] = round(ratings[i])\n",
    "\n",
    "    return X, ratings\n",
    "\n",
    "\n",
    "X, ratings = prepareForNB(movie_df)\n",
    "\n",
    "data_count = movie_df.shape[0]\n",
    "training_data_count = int(data_count * 0.75) + 1\n",
    "test_data_count = data_count - training_data_count\n",
    "\n",
    "nb_y_train = np.array(ratings[0:training_data_count])\n",
    "nb_x_train = np.array(X[0:training_data_count])\n",
    "\n",
    "nb_y_test = np.array(ratings[:-1 * test_data_count])\n",
    "nb_x_test = np.array(X[:-1 * test_data_count])\n",
    "\n",
    "NBmodel = naiveBayes(nb_x_train, nb_y_train)\n",
    "\n",
    "y_pred = NBmodel.predict(nb_x_test)\n",
    "\n",
    "total_correct = 0\n",
    "for i in range(0, nb_y_test.shape[0]):\n",
    "    if int(y_pred[i]) == nb_y_test[i]:\n",
    "        total_correct += 1\n",
    "\n",
    "test_size = nb_y_test.shape[0]\n",
    "accuracy = total_correct/test_size\n",
    "print(f\"Total Correct Ratio: {total_correct}/{nb_y_test.shape[0]}\")\n",
    "print(accuracy)\n",
    "\n",
    "plot.figure(figsize=[10, 10])\n",
    "actuals = plot.scatter(np.linspace(0, test_size, test_size),\n",
    "                       nb_y_test, color='red', marker='.')\n",
    "estimates = plot.scatter(np.linspace(\n",
    "    0, test_size, test_size), y_pred, color='blue', marker='.')\n",
    "plot.legend([actuals, estimates], [\"Actuals\", \"Estimated\"])\n",
    "plot.show()\n"
   ]
  }
 ],
 "metadata": {
  "interpreter": {
   "hash": "11f1dc213e07634baa4c5c321dec03c05dafae643c50f20e6d1a492290c05dc2"
  },
  "kernelspec": {
   "display_name": "Python 3.9.1 64-bit",
   "name": "python3"
  },
  "language_info": {
   "codemirror_mode": {
    "name": "ipython",
    "version": 3
   },
   "file_extension": ".py",
   "mimetype": "text/x-python",
   "name": "python",
   "nbconvert_exporter": "python",
   "pygments_lexer": "ipython3",
   "version": "3.9.7"
  },
  "orig_nbformat": 4
 },
 "nbformat": 4,
 "nbformat_minor": 2
}
