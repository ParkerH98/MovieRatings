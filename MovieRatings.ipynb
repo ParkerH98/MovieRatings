{
 "cells": [
  {
   "cell_type": "markdown",
   "metadata": {},
   "source": [
    "# Imports"
   ]
  },
  {
   "cell_type": "code",
   "execution_count": 2,
   "metadata": {},
   "outputs": [],
   "source": [
    "import pandas as pd\n",
    "import tensorflow as tf\n",
    "import tensorflow.keras.layers as Layer\n",
    "import numpy as np\n",
    "import tensorflow.keras.layers.experimental.preprocessing as preprocessing\n",
    "# from DatasetFormatting import *\n",
    "import statistics\n"
   ]
  },
  {
   "cell_type": "code",
   "execution_count": 3,
   "metadata": {},
   "outputs": [],
   "source": [
    "import re\n",
    "import pandas as pd\n",
    "\n",
    "movieFields = ['id', 'title', 'vote_average', 'vote_count', 'genres']\n",
    "castFields = ['id', 'cast']\n",
    "\n",
    "movieData = pd.read_csv('archive/movies_metadata.csv', skipinitialspace=True, usecols=movieFields, engine='python')\n",
    "castData = pd.read_csv('archive/credits.csv', skipinitialspace=True, usecols=castFields, engine='python')\n",
    "\n",
    "dfMovies = pd.DataFrame(movieData)\n",
    "dfCast = pd.DataFrame(castData)\n",
    "\n",
    "df = pd.merge(dfMovies, dfCast, how='inner')\n",
    "\n",
    "\n",
    "# ---------------------------------------------------------------------------- #\n",
    "# The following section formats the cast and creates a clean list of actor names.\n",
    "\n",
    "unformattedNames = df['cast']\n",
    "\n",
    "# main list of cast grouped by movies\n",
    "cast_master_copy = []\n",
    "\n",
    "# list of overall cast by individual names\n",
    "actor_name_list = []\n",
    "\n",
    "# reads through the cast string for each movie\n",
    "for unformattedNameString in unformattedNames:\n",
    "\n",
    "    # creates new list for current movie\n",
    "    grouped = \"\"\n",
    "\n",
    "    # pulls actors' names out of the paragraph\n",
    "    line_list = re.findall(\"(?<=\\'name\\': )(.*?)(?=,)\", unformattedNameString)\n",
    "    \n",
    "    # converts list of cast for one movie into a string to manipulate further \n",
    "    line_string = str(line_list)\n",
    "\n",
    "    # separates cast into a unique list per movie\n",
    "    line_split = line_string.split(\", \")\n",
    "\n",
    "    actor_count = 0\n",
    "    # reads through each actor per movie\n",
    "    for name in line_split:\n",
    "        if (actor_count == 5):\n",
    "            break\n",
    "     \n",
    "        # removes extraneous symbols from the actors' names\n",
    "        name = name.replace(\"\\\"\", \"\")\n",
    "        name = name.replace(\"\\'\", \"\")\n",
    "        name = name.replace(\"[\", \"\")\n",
    "        name = name.replace(\"]\", \"\")\n",
    "        name = name.replace(\" \", \"\")\n",
    "\n",
    "        # adds actors to two working lists\n",
    "        # grouped: actors are in lists by movies\n",
    "        # actor_name_list: puts every actors in one list\n",
    "        grouped += name + ' '\n",
    "        actor_name_list.append(name)\n",
    "        \n",
    "        actor_count += 1\n",
    "\n",
    "    # adds formatted cast members to list\n",
    "    grouped = grouped[:-1]\n",
    "    cast_master_copy.append(grouped)\n",
    "\n",
    "# assigns formatted cast to 'cast' column of DataFrame\n",
    "df['cast'] = cast_master_copy\n",
    "# ---------------------------------------------------------------------------- #\n",
    "\n",
    "\n",
    "# ---------------------------------------------------------------------------- #\n",
    "# The following section formats the genre and adds it to the data frame\n",
    "\n",
    "unformatted_genres = df['genres']\n",
    "\n",
    "# main list of genres grouped by movies\n",
    "genre_master_copy = []\n",
    "\n",
    "# list of overall cast by individual names\n",
    "genre_name_list = []\n",
    "\n",
    "# reads through the genre string for each movie\n",
    "for unformatted_genre_string in unformatted_genres:\n",
    "\n",
    "    # creates new list for current movie\n",
    "    genre_grouped = []\n",
    "\n",
    "    # pulls genres out of the paragraph\n",
    "    genre_line_list = re.findall(\"(?<=\\'name\\': )(.*?)(?=})\", unformatted_genre_string)\n",
    "\n",
    "    # converts list of genres for one movie into a string to manipulate further \n",
    "    genre_line_string = str(genre_line_list)\n",
    "\n",
    "    # separates genre into a unique list per movie\n",
    "    genre_line_split = genre_line_string.split(\", \")\n",
    "\n",
    "    # reads through each genre per movie & grabs the first one\n",
    "    for genre in genre_line_split:\n",
    "     \n",
    "        # removes extraneous symbols from the genres\n",
    "        genre = genre.replace(\"\\\"\", \"\")\n",
    "        genre = genre.replace(\"\\'\", \"\")\n",
    "        genre = genre.replace(\"[\", \"\")\n",
    "        genre = genre.replace(\"]\", \"\")\n",
    "\n",
    "        genre_str = str(genre)\n",
    "        break\n",
    "\n",
    "    # adds formatted genre to list\n",
    "    genre_master_copy.append(genre_str)\n",
    "\n",
    "# assigns formatted cast to 'cast' column of DataFrame\n",
    "df['genres'] = genre_master_copy\n",
    "# ---------------------------------------------------------------------------- #\n",
    "\n",
    "\n",
    "# ---------------------------------------------------------------------------- #\n",
    "# The following section appends the genre to the cast string. This preparation is \n",
    "# needed for text vectorization / embedding.\n",
    "\n",
    "final_format_col = []\n",
    "cast = df['cast'].to_list()\n",
    "genres = df['genres'].to_list()\n",
    "\n",
    "i = 0\n",
    "count = len(cast)\n",
    "for i in range(count):\n",
    "    final_string = genres[i] + \" \" + cast[i]\n",
    "    final_format_col.append(final_string)\n",
    "\n",
    "df.insert(loc=0, column='training_col', value=final_format_col)\n",
    "df.training_col = final_format_col\n",
    "# ---------------------------------------------------------------------------- #\n",
    "\n",
    "\n",
    "# ---------------------------------------------------------------------------- #\n",
    "# The following section filters out data points that will be harmful for\n",
    "# our model's accuracy and drops unnecessary columns.\n",
    "\n",
    "# gets rid of all movies with 0 votes\n",
    "# Number of movies before operation: 43019\n",
    "# Number of movies after operation: 22651\n",
    "df = df.drop(df[df.vote_count < 10].index)\n",
    "# ---------------------------------------------------------------------------- #\n",
    "\n",
    "\n",
    "# ---------------------------------------------------------------------------- #\n",
    "# The following section handles the creation of the .csv files that will be the\n",
    "# primary data used to train the models. \n",
    "\n",
    "# writes formatted DataFrame values to a new csv\n",
    "pd.DataFrame.to_csv(df, \"formatted_movies.csv\", index=\"false\")\n",
    "\n",
    "# creates a csv of the actor dictionary\n",
    "# w = csv.writer(open(\"actor_dict.csv\", \"w\"))\n",
    "# for key, val in actor_dict.items():\n",
    "#     w.writerow([key, val])\n",
    "# ---------------------------------------------------------------------------- #"
   ]
  },
  {
   "cell_type": "markdown",
   "metadata": {},
   "source": [
    "# Preparing Training Dataset"
   ]
  },
  {
   "cell_type": "code",
   "execution_count": 4,
   "metadata": {},
   "outputs": [
    {
     "name": "stdout",
     "output_type": "stream",
     "text": [
      "STD: 0.9976277124059775\n",
      "mean: 6.165617412034789\n",
      "variance: 0.9952610525603838\n",
      "mode: 6.5\n",
      "x_train shape: (16989,)\n"
     ]
    }
   ],
   "source": [
    "np.random.seed(1)\n",
    "tf.random.set_seed(1)\n",
    "\n",
    "movie_df = df\n",
    "movie_df.drop(['vote_count'], axis = 1)\n",
    "\n",
    "data_count = movie_df.shape[0]\n",
    "training_data_count = int(data_count * 0.75) + 1\n",
    "test_data_count = data_count - training_data_count\n",
    "\n",
    "y_train = np.array(movie_df['vote_average'].head(training_data_count))\n",
    "x_train = np.array(movie_df['training_col'].head(training_data_count))\n",
    "\n",
    "y_test = np.array(movie_df['vote_average'].tail(test_data_count))\n",
    "x_test = np.array(movie_df[['training_col']].tail(test_data_count))\n",
    "\n",
    "std = statistics.stdev(movie_df['vote_average'].to_list())\n",
    "mean = statistics.mean(movie_df['vote_average'].to_list())\n",
    "variance = statistics.variance(movie_df['vote_average'].to_list())\n",
    "mode = statistics.mode(movie_df['vote_average'].to_list())\n",
    "\n",
    "print(f\"STD: {std}\")\n",
    "print(f\"mean: {mean}\")\n",
    "print(f\"variance: {variance}\")\n",
    "print(f\"mode: {mode}\")\n",
    "\n",
    "# print(x_train)\n",
    "print(f\"x_train shape: {x_train.shape}\")"
   ]
  },
  {
   "cell_type": "markdown",
   "metadata": {},
   "source": [
    "## Text Vectorization For Actors & Genres"
   ]
  },
  {
   "cell_type": "code",
   "execution_count": 5,
   "metadata": {},
   "outputs": [
    {
     "name": "stdout",
     "output_type": "stream",
     "text": [
      "Metal device set to: Apple M1 Max\n",
      "\n",
      "systemMemory: 32.00 GB\n",
      "maxCacheSize: 10.67 GB\n",
      "\n"
     ]
    },
    {
     "name": "stderr",
     "output_type": "stream",
     "text": [
      "2021-11-07 00:28:07.451844: I tensorflow/core/common_runtime/pluggable_device/pluggable_device_factory.cc:305] Could not identify NUMA node of platform GPU ID 0, defaulting to 0. Your kernel may not have been built with NUMA support.\n",
      "2021-11-07 00:28:07.452176: I tensorflow/core/common_runtime/pluggable_device/pluggable_device_factory.cc:271] Created TensorFlow device (/job:localhost/replica:0/task:0/device:GPU:0 with 0 MB memory) -> physical PluggableDevice (device: 0, name: METAL, pci bus id: <undefined>)\n",
      "2021-11-07 00:28:07.479606: I tensorflow/compiler/mlir/mlir_graph_optimization_pass.cc:185] None of the MLIR Optimization Passes are enabled (registered 2)\n",
      "2021-11-07 00:28:07.481912: W tensorflow/core/platform/profile_utils/cpu_utils.cc:128] Failed to get CPU frequency: 0 Hz\n",
      "2021-11-07 00:28:07.517319: I tensorflow/core/grappler/optimizers/custom_graph_optimizer_registry.cc:112] Plugin optimizer for device_type GPU is enabled.\n"
     ]
    }
   ],
   "source": [
    "VOCAB_SIZE = 201277\n",
    "encoder = preprocessing.TextVectorization(max_tokens=VOCAB_SIZE, output_sequence_length=6)\n",
    "features = np.array(df['training_col'])\n",
    "encoder.adapt(features)\n",
    "\n",
    "# this line of code doesnt work on windows for some reason\n",
    "# print(np.array(encoder.get_vocabulary()))"
   ]
  },
  {
   "cell_type": "markdown",
   "metadata": {},
   "source": [
    "## Text Vectorization Sanity Check"
   ]
  },
  {
   "cell_type": "code",
   "execution_count": 6,
   "metadata": {},
   "outputs": [
    {
     "name": "stdout",
     "output_type": "stream",
     "text": [
      "DakotaFanning JosePabloCantillo Horror\n"
     ]
    },
    {
     "data": {
      "text/plain": [
       "array([ 325, 3016,    5,    0,    0,    0])"
      ]
     },
     "execution_count": 6,
     "metadata": {},
     "output_type": "execute_result"
    }
   ],
   "source": [
    "print(movie_df['training_col'].to_numpy()[0])\n",
    "x = encoder(movie_df['training_col'].to_numpy()[0]).numpy()\n",
    "x"
   ]
  },
  {
   "cell_type": "markdown",
   "metadata": {},
   "source": [
    "# Recurrent Neural Network"
   ]
  },
  {
   "cell_type": "code",
   "execution_count": 8,
   "metadata": {},
   "outputs": [],
   "source": [
    "model_RNN = tf.keras.Sequential([\n",
    "encoder,\n",
    "    Layer.Embedding(\n",
    "        input_dim=len(encoder.get_vocabulary()),\n",
    "        output_dim=200),\n",
    "    Layer.SimpleRNN(100),\n",
    "    Layer.Dense(100),\n",
    "    Layer.Dense(1)\n",
    "])\n",
    "\n",
    "model_RNN.compile(loss=tf.keras.losses.MeanSquaredError(),\n",
    "            optimizer=tf.keras.optimizers.Adam(1e-4),\n",
    "            metrics=['accuracy'])\n",
    "\n",
    "# model_RNN.summary()"
   ]
  },
  {
   "cell_type": "markdown",
   "metadata": {},
   "source": [
    "## RNN Training & Validation"
   ]
  },
  {
   "cell_type": "code",
   "execution_count": 9,
   "metadata": {},
   "outputs": [
    {
     "name": "stdout",
     "output_type": "stream",
     "text": [
      "Epoch 1/10\n"
     ]
    },
    {
     "name": "stderr",
     "output_type": "stream",
     "text": [
      "2021-11-07 00:29:10.249779: I tensorflow/core/grappler/optimizers/custom_graph_optimizer_registry.cc:112] Plugin optimizer for device_type GPU is enabled.\n"
     ]
    },
    {
     "name": "stdout",
     "output_type": "stream",
     "text": [
      "Epoch 2/10\n",
      "Epoch 3/10\n",
      "Epoch 4/10\n",
      "Epoch 5/10\n",
      "Epoch 6/10\n",
      "Epoch 7/10\n",
      "Epoch 8/10\n",
      "Epoch 9/10\n",
      "Epoch 10/10\n",
      " 11/177 [>.............................] - ETA: 1s - loss: 1.2177 - accuracy: 0.0000e+00"
     ]
    },
    {
     "name": "stderr",
     "output_type": "stream",
     "text": [
      "2021-11-07 00:29:42.753155: I tensorflow/core/grappler/optimizers/custom_graph_optimizer_registry.cc:112] Plugin optimizer for device_type GPU is enabled.\n"
     ]
    },
    {
     "name": "stdout",
     "output_type": "stream",
     "text": [
      "177/177 [==============================] - 2s 10ms/step - loss: 1.2235 - accuracy: 0.0000e+00\n",
      "Test loss: 1.223455786705017\n",
      "Test accuracy: 0.0\n"
     ]
    }
   ],
   "source": [
    "model_RNN.fit(\n",
    "    x_train,\n",
    "    y_train, \n",
    "    batch_size=256,\n",
    "    epochs=10,\n",
    "    verbose=4)\n",
    "\n",
    "score = model_RNN.evaluate(x_test, y_test)\n",
    "print('Test loss:', score[0])\n",
    "print('Test accuracy:', score[1])"
   ]
  },
  {
   "cell_type": "markdown",
   "metadata": {},
   "source": [
    "### Validating Training Data"
   ]
  },
  {
   "cell_type": "code",
   "execution_count": 10,
   "metadata": {},
   "outputs": [
    {
     "name": "stdout",
     "output_type": "stream",
     "text": [
      "1839    7.0\n",
      "Name: vote_average, dtype: float64\n",
      "[7.1021852]\n"
     ]
    },
    {
     "name": "stderr",
     "output_type": "stream",
     "text": [
      "2021-11-07 00:29:55.633268: I tensorflow/core/grappler/optimizers/custom_graph_optimizer_registry.cc:112] Plugin optimizer for device_type GPU is enabled.\n"
     ]
    }
   ],
   "source": [
    "print(df.loc[df['title'] == 'Sully']['vote_average'])\n",
    "\n",
    "sully_input = 'TomHanks AaronEckhart LauraLinney AnnaGunn AutumnReeser Drama'\n",
    "validation_prediction = model_RNN.predict(np.array([sully_input]))\n",
    "print(validation_prediction[0])"
   ]
  },
  {
   "cell_type": "markdown",
   "metadata": {},
   "source": [
    "### Validating Test Data"
   ]
  },
  {
   "cell_type": "code",
   "execution_count": 11,
   "metadata": {},
   "outputs": [
    {
     "name": "stdout",
     "output_type": "stream",
     "text": [
      "Prediction for index: 0\n",
      "input ---> ['DannyGlover RonPerlman LindaHamilton ZoeWeizenbaum DavidStrathairn Drama']\n",
      "actual output ---> 6.1\n",
      "predicted output ---> [[5.5944448]]\n",
      "\n",
      "Prediction for index: 2\n",
      "input ---> ['MatthewMcConaughey JeffreyNordling WillieNelson WoodyHarrelson ZacharyKnighton Comedy']\n",
      "actual output ---> 4.7\n",
      "predicted output ---> [[4.8743405]]\n",
      "\n",
      "Prediction for index: 3\n",
      "input ---> ['PaulWalker PiperPerabo LambertWilson LindaCardellini ShawnHatosy Drama']\n",
      "actual output ---> 6.0\n",
      "predicted output ---> [[6.3331857]]\n",
      "\n",
      "Prediction for index: 4\n",
      "input ---> ['MollyShannon WillFerrell ElaineHendrix HarlandWilliams TomGreen Comedy']\n",
      "actual output ---> 5.0\n",
      "predicted output ---> [[4.9682007]]\n",
      "\n",
      "Prediction for index: 5\n",
      "input ---> ['StephenDorff ArminMueller-Stahl AloisMoyo MorganFreeman IanRoberts Drama']\n",
      "actual output ---> 7.6\n",
      "predicted output ---> [[4.840428]]\n",
      "\n",
      "Prediction for index: 6\n",
      "input ---> ['HarryDeanStanton EmilioEstevez TraceyWalter OliviaBarash SyRichardson Comedy']\n",
      "actual output ---> 6.7\n",
      "predicted output ---> [[6.982173]]\n",
      "\n"
     ]
    }
   ],
   "source": [
    "def print_test_prediction(index):\n",
    "    print(f\"Prediction for index: {index}\")\n",
    "    \n",
    "    print(f\"input ---> {x_test[index]}\")\n",
    "    print(f\"actual output ---> {y_test[index]}\")\n",
    "    print(f\"predicted output ---> {model_RNN.predict(x_test[index])}\\n\")\n",
    "        \n",
    "print_test_prediction(0)\n",
    "print_test_prediction(2)\n",
    "print_test_prediction(3)\n",
    "print_test_prediction(4)\n",
    "print_test_prediction(5)\n",
    "print_test_prediction(6)"
   ]
  }
 ],
 "metadata": {
  "interpreter": {
   "hash": "11f1dc213e07634baa4c5c321dec03c05dafae643c50f20e6d1a492290c05dc2"
  },
  "kernelspec": {
   "display_name": "Python 3.9.1 64-bit",
   "name": "python3"
  },
  "language_info": {
   "codemirror_mode": {
    "name": "ipython",
    "version": 3
   },
   "file_extension": ".py",
   "mimetype": "text/x-python",
   "name": "python",
   "nbconvert_exporter": "python",
   "pygments_lexer": "ipython3",
   "version": "3.9.7"
  },
  "orig_nbformat": 4
 },
 "nbformat": 4,
 "nbformat_minor": 2
}
