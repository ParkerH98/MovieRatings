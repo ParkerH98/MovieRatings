{
 "cells": [
  {
   "cell_type": "markdown",
   "metadata": {},
   "source": [
    "# Imports"
   ]
  },
  {
   "cell_type": "code",
   "execution_count": 4,
   "metadata": {},
   "outputs": [],
   "source": [
    "import re\n",
    "import pandas as pd\n",
    "from collections import defaultdict\n",
    "import csv\n",
    "from sklearn.linear_model import LinearRegression\n",
    "# %load_ext tensorboard\n",
    "from datetime import datetime\n",
    "import tensorflow as tf\n",
    "from tensorflow import keras\n",
    "import tensorflow.keras.layers as Layer\n",
    "import tensorboard\n",
    "import matplotlib.pyplot as plt\n",
    "import numpy as np\n",
    "# import keras_tuner as kt\n",
    "import time\n",
    "import tensorflow.keras.layers.experimental.preprocessing as preprocessing"
   ]
  },
  {
   "cell_type": "markdown",
   "metadata": {},
   "source": [
    "# Data Formatting & Manipulation"
   ]
  },
  {
   "cell_type": "code",
   "execution_count": 5,
   "metadata": {},
   "outputs": [],
   "source": [
    "\n",
    "movieFields = ['id', 'title', 'vote_average', 'vote_count', 'genres']\n",
    "castFields = ['id', 'cast']\n",
    "\n",
    "movieData = pd.read_csv('archive/movies_metadata.csv', skipinitialspace=True, usecols=movieFields)\n",
    "castData = pd.read_csv('archive/credits.csv', skipinitialspace=True, usecols=castFields)\n",
    "\n",
    "dfMovies = pd.DataFrame(movieData)\n",
    "dfCast = pd.DataFrame(castData)\n",
    "\n",
    "df = pd.merge(dfMovies, dfCast, how='inner')\n",
    "\n",
    "\n",
    "# ---------------------------------------------------------------------------- #\n",
    "# The following section formats the cast and creates a clean list of actor names.\n",
    "\n",
    "unformattedNames = df['cast']\n",
    "\n",
    "# main list of cast grouped by movies\n",
    "cast_master_copy = []\n",
    "\n",
    "# list of overall cast by individual names\n",
    "actor_name_list = []\n",
    "\n",
    "# reads through the cast string for each movie\n",
    "for unformattedNameString in unformattedNames:\n",
    "\n",
    "    # creates new list for current movie\n",
    "    grouped = []\n",
    "\n",
    "    # pulls actors' names out of the paragraph\n",
    "    line_list = re.findall(\"(?<=\\'name\\': )(.*?)(?=,)\", unformattedNameString)\n",
    "    \n",
    "    # converts list of cast for one movie into a string to manipulate further \n",
    "    line_string = str(line_list)\n",
    "\n",
    "    # separates cast into a unique list per movie\n",
    "    line_split = line_string.split(\", \")\n",
    "\n",
    "    actor_count = 0\n",
    "    # reads through each actor per movie\n",
    "    for name in line_split:\n",
    "        if (actor_count == 5):\n",
    "            break\n",
    "     \n",
    "        # removes extraneous symbols from the actors' names\n",
    "        name = name.replace(\"\\\"\", \"\")\n",
    "        name = name.replace(\"\\'\", \"\")\n",
    "        name = name.replace(\"[\", \"\")\n",
    "        name = name.replace(\"]\", \"\")\n",
    "\n",
    "        # adds actors to two working lists\n",
    "        # grouped: actors are in lists by movies\n",
    "        # actor_name_list: puts every actors in one list\n",
    "        grouped.append(name)\n",
    "        actor_name_list.append(name)\n",
    "        \n",
    "        actor_count += 1\n",
    "\n",
    "    # adds formatted cast members to list\n",
    "    cast_master_copy.append(grouped)\n",
    "\n",
    "# assigns formatted cast to 'cast' column of DataFrame\n",
    "df['cast'] = cast_master_copy\n",
    "# ---------------------------------------------------------------------------- #\n",
    "\n",
    "\n",
    "# ---------------------------------------------------------------------------- #\n",
    "# The following section turns the list of actor names into a list of unique numbers\n",
    "# assigned to those actors. Then, creates a dictionary with the actor names and those \n",
    "# keys.\n",
    "\n",
    "# initializes default dictionary\n",
    "key_assignment = defaultdict(lambda: len(key_assignment))\n",
    "\n",
    "# list of unique keys for each actor in dictionary\n",
    "keys = [key_assignment[key] for key in actor_name_list]\n",
    "\n",
    "# assigns keys to actors to form a hash table...nums are keys\n",
    "actor_dict = dict(zip(keys, actor_name_list))\n",
    "\n",
    "# inverts dictionary...names are keys\n",
    "actor_dict_inv = {v: k for k, v in actor_dict.items()}\n",
    "# ---------------------------------------------------------------------------- #\n",
    "\n",
    "\n",
    "# ---------------------------------------------------------------------------- #\n",
    "# The following section uses the inverted actor dictionary to look up the actor names\n",
    "# and put their respective dictionary values in a list for each movie.\n",
    "\n",
    "cast_names_by_movie = df['cast']\n",
    "cast_ids_by_movie_master = []\n",
    "\n",
    "for cast in cast_names_by_movie:\n",
    "\n",
    "    temp_actor_list = []\n",
    "\n",
    "    for actor in cast:\n",
    "        actor = actor.replace(\"[\", \"\")\n",
    "        actor = actor.replace(\"]\", \"\")\n",
    "        actor = actor.replace(\"\\'\", \"\")\n",
    "\n",
    "        actor_key = actor_dict_inv.get(actor)\n",
    "        temp_actor_list.append(actor_key)\n",
    "    \n",
    "    if (len(temp_actor_list) < 5):\n",
    "            diff = 5 - len(temp_actor_list)\n",
    "            \n",
    "            for i in range(diff):\n",
    "                temp_actor_list.append(1)\n",
    "\n",
    "    cast_ids_by_movie_master.append(temp_actor_list)\n",
    "\n",
    "df['cast_ids'] = cast_ids_by_movie_master\n",
    "# ---------------------------------------------------------------------------- #\n",
    "\n",
    "\n",
    "# ---------------------------------------------------------------------------- #\n",
    "# The following section formats the genre and adds it to the data frame\n",
    "\n",
    "unformatted_genres = df['genres']\n",
    "\n",
    "# main list of genres grouped by movies\n",
    "genre_master_copy = []\n",
    "\n",
    "# list of overall cast by individual names\n",
    "genre_name_list = []\n",
    "\n",
    "# reads through the genre string for each movie\n",
    "for unformatted_genre_string in unformatted_genres:\n",
    "\n",
    "    # creates new list for current movie\n",
    "    genre_grouped = []\n",
    "\n",
    "    # pulls genres out of the paragraph\n",
    "    genre_line_list = re.findall(\"(?<=\\'name\\': )(.*?)(?=})\", unformatted_genre_string)\n",
    "\n",
    "    # converts list of genres for one movie into a string to manipulate further \n",
    "    genre_line_string = str(genre_line_list)\n",
    "\n",
    "    # separates genre into a unique list per movie\n",
    "    genre_line_split = genre_line_string.split(\", \")\n",
    "\n",
    "    # reads through each genre per movie & grabs the first one\n",
    "    for genre in genre_line_split:\n",
    "     \n",
    "        # removes extraneous symbols from the genres\n",
    "        genre = genre.replace(\"\\\"\", \"\")\n",
    "        genre = genre.replace(\"\\'\", \"\")\n",
    "        genre = genre.replace(\"[\", \"\")\n",
    "        genre = genre.replace(\"]\", \"\")\n",
    "\n",
    "        genre_str = str(genre)\n",
    "        break\n",
    "\n",
    "    # adds formatted genre to list\n",
    "    genre_master_copy.append(genre_str)\n",
    "\n",
    "# assigns formatted cast to 'cast' column of DataFrame\n",
    "df['genres'] = genre_master_copy\n",
    "# ---------------------------------------------------------------------------- #\n",
    "\n",
    "\n",
    "# ---------------------------------------------------------------------------- #\n",
    "# The following section filters out data points that will be harmful for\n",
    "# our model's accuracy.\n",
    "\n",
    "# gets rid of all movies with 0 votes\n",
    "# Number of movies before operation: 43020\n",
    "# Number of movies after operation: 40739\n",
    "df = df.drop(df[df.vote_count < 10].index)\n",
    "# ---------------------------------------------------------------------------- #\n",
    "\n",
    "\n",
    "# ---------------------------------------------------------------------------- #\n",
    "# The following section handles the creation of the .csv files that will be the\n",
    "# primary data used to train the models. \n",
    "\n",
    "# writes formatted DataFrame values to a new csv\n",
    "# pd.DataFrame.to_csv(df, \"formatted_movies.csv\", index=\"false\")\n",
    "\n",
    "# creates a csv of the actor dictionary\n",
    "# w = csv.writer(open(\"actor_dict.csv\", \"w\"))\n",
    "# for key, val in actor_dict.items():\n",
    "#     w.writerow([key, val])\n",
    "# ---------------------------------------------------------------------------- #\n",
    "\n",
    "# print(df)\n"
   ]
  },
  {
   "cell_type": "markdown",
   "metadata": {},
   "source": [
    "# Preparing Training Dataset"
   ]
  },
  {
   "cell_type": "code",
   "execution_count": 6,
   "metadata": {},
   "outputs": [
    {
     "name": "stdout",
     "output_type": "stream",
     "text": [
      "[['Horror']\n",
      " ['Action']\n",
      " ['Action']\n",
      " ...\n",
      " ['Crime']\n",
      " ['Drama']\n",
      " ['Adventure']]\n",
      "(16989, 1)\n"
     ]
    }
   ],
   "source": [
    "np.random.seed(1)\n",
    "tf.random.set_seed(1)\n",
    "\n",
    "movie_df = df\n",
    "movie_df.drop(['vote_count'], axis = 1)\n",
    "\n",
    "# saves genres keys/values if needed for lookup later\n",
    "keys, genres = pd.factorize(movie_df['genres'])\n",
    "\n",
    "# print(genres.shape)\n",
    "# movie_df['genres'] = pd.factorize(movie_df['genres'])[0]\n",
    "\n",
    "data_count = movie_df.shape[0]\n",
    "training_data_count = int(data_count * 0.75) + 1\n",
    "test_data_count = data_count - training_data_count\n",
    "\n",
    "y_train = np.array(movie_df['vote_average'].head(training_data_count))\n",
    "x_train = np.array(movie_df[['genres']].head(training_data_count))\n",
    "\n",
    "y_test = np.array(movie_df['vote_average'].tail(test_data_count))\n",
    "x_test = np.array(movie_df[['genres']].tail(test_data_count))\n",
    "\n",
    "print(x_train)\n",
    "print(x_train.shape)\n",
    "\n",
    "# print(x_test)\n",
    "# print(x_test.shape)"
   ]
  },
  {
   "cell_type": "markdown",
   "metadata": {},
   "source": [
    "# Text Vectorization (Genres)"
   ]
  },
  {
   "cell_type": "code",
   "execution_count": 7,
   "metadata": {},
   "outputs": [
    {
     "name": "stdout",
     "output_type": "stream",
     "text": [
      "Metal device set to: Apple M1 Max\n",
      "\n",
      "systemMemory: 32.00 GB\n",
      "maxCacheSize: 10.67 GB\n",
      "\n"
     ]
    },
    {
     "name": "stderr",
     "output_type": "stream",
     "text": [
      "2021-11-05 18:26:57.700127: I tensorflow/core/common_runtime/pluggable_device/pluggable_device_factory.cc:305] Could not identify NUMA node of platform GPU ID 0, defaulting to 0. Your kernel may not have been built with NUMA support.\n",
      "2021-11-05 18:26:57.700273: I tensorflow/core/common_runtime/pluggable_device/pluggable_device_factory.cc:271] Created TensorFlow device (/job:localhost/replica:0/task:0/device:GPU:0 with 0 MB memory) -> physical PluggableDevice (device: 0, name: METAL, pci bus id: <undefined>)\n",
      "2021-11-05 18:26:57.765731: I tensorflow/compiler/mlir/mlir_graph_optimization_pass.cc:185] None of the MLIR Optimization Passes are enabled (registered 2)\n",
      "2021-11-05 18:26:57.765895: W tensorflow/core/platform/profile_utils/cpu_utils.cc:128] Failed to get CPU frequency: 0 Hz\n",
      "2021-11-05 18:26:57.813211: I tensorflow/core/grappler/optimizers/custom_graph_optimizer_registry.cc:112] Plugin optimizer for device_type GPU is enabled.\n"
     ]
    },
    {
     "data": {
      "text/plain": [
       "array(['', '[UNK]', 'drama', 'comedy', 'action', 'adventure', 'horror',\n",
       "       'crime', 'thriller', 'fantasy', 'animation', 'romance', 'mystery',\n",
       "       'documentary', 'science', 'fiction', 'family', 'music', 'western',\n",
       "       'war'], dtype='<U11')"
      ]
     },
     "execution_count": 7,
     "metadata": {},
     "output_type": "execute_result"
    }
   ],
   "source": [
    "VOCAB_SIZE = 20\n",
    "x_test_list = x_test.tolist()\n",
    "encoder = preprocessing.TextVectorization(max_tokens=VOCAB_SIZE)\n",
    "encoder.adapt(x_test_list)\n",
    "\n",
    "vocab = np.array(encoder.get_vocabulary())\n",
    "vocab"
   ]
  },
  {
   "cell_type": "markdown",
   "metadata": {},
   "source": [
    "## Text Vectorization Sanity Check (Genres)"
   ]
  },
  {
   "cell_type": "code",
   "execution_count": 8,
   "metadata": {},
   "outputs": [
    {
     "name": "stdout",
     "output_type": "stream",
     "text": [
      "Horror\n"
     ]
    },
    {
     "data": {
      "text/plain": [
       "array([6])"
      ]
     },
     "execution_count": 8,
     "metadata": {},
     "output_type": "execute_result"
    }
   ],
   "source": [
    "encoded_example = encoder(movie_df.genres.to_numpy()[0]).numpy()\n",
    "print(movie_df.genres.to_numpy()[0])\n",
    "encoded_example"
   ]
  },
  {
   "cell_type": "code",
   "execution_count": 9,
   "metadata": {},
   "outputs": [
    {
     "name": "stdout",
     "output_type": "stream",
     "text": [
      "(16989, 1)\n",
      "(16989, 1)\n"
     ]
    },
    {
     "data": {
      "text/plain": [
       "(20,)"
      ]
     },
     "execution_count": 9,
     "metadata": {},
     "output_type": "execute_result"
    }
   ],
   "source": [
    "x_train = np.reshape(x_train, (-1, 1))\n",
    "y_train = np.reshape(y_train, (-1, 1))\n",
    "\n",
    "\n",
    "\n",
    "print(x_train.shape)\n",
    "\n",
    "print(y_train.shape)\n",
    "\n",
    "\n",
    "x = np.array(encoder.get_vocabulary())\n",
    "\n",
    "x.shape\n"
   ]
  },
  {
   "cell_type": "markdown",
   "metadata": {},
   "source": [
    "# Feed Forward Neural Network"
   ]
  },
  {
   "cell_type": "code",
   "execution_count": 20,
   "metadata": {},
   "outputs": [
    {
     "name": "stdout",
     "output_type": "stream",
     "text": [
      "Model: \"sequential_10\"\n",
      "_________________________________________________________________\n",
      "Layer (type)                 Output Shape              Param #   \n",
      "=================================================================\n",
      "text_vectorization (TextVect (None, None)              0         \n",
      "_________________________________________________________________\n",
      "embedding_10 (Embedding)     (None, None, 64)          1280      \n",
      "_________________________________________________________________\n",
      "simple_rnn_2 (SimpleRNN)     (None, 64)                8256      \n",
      "_________________________________________________________________\n",
      "dense_18 (Dense)             (None, 64)                4160      \n",
      "_________________________________________________________________\n",
      "dense_19 (Dense)             (None, 1)                 65        \n",
      "=================================================================\n",
      "Total params: 13,761\n",
      "Trainable params: 13,761\n",
      "Non-trainable params: 0\n",
      "_________________________________________________________________\n",
      "Epoch 1/25\n"
     ]
    },
    {
     "name": "stderr",
     "output_type": "stream",
     "text": [
      "2021-11-05 18:43:19.698653: I tensorflow/core/grappler/optimizers/custom_graph_optimizer_registry.cc:112] Plugin optimizer for device_type GPU is enabled.\n"
     ]
    },
    {
     "name": "stdout",
     "output_type": "stream",
     "text": [
      "34/34 [==============================] - 2s 26ms/step - loss: 37.3254 - accuracy: 3.5317e-04\n",
      "Epoch 2/25\n",
      "34/34 [==============================] - 1s 22ms/step - loss: 36.0244 - accuracy: 3.5317e-04\n",
      "Epoch 3/25\n",
      "34/34 [==============================] - 1s 22ms/step - loss: 34.3091 - accuracy: 3.5317e-04\n",
      "Epoch 4/25\n",
      "34/34 [==============================] - 1s 22ms/step - loss: 31.7477 - accuracy: 2.9431e-04\n",
      "Epoch 5/25\n",
      "34/34 [==============================] - 1s 22ms/step - loss: 27.9827 - accuracy: 0.0000e+00\n",
      "Epoch 6/25\n",
      "34/34 [==============================] - 1s 22ms/step - loss: 22.7099 - accuracy: 0.0000e+00\n",
      "Epoch 7/25\n",
      "34/34 [==============================] - 1s 24ms/step - loss: 16.1822 - accuracy: 0.0000e+00\n",
      "Epoch 8/25\n",
      "34/34 [==============================] - 1s 22ms/step - loss: 9.6592 - accuracy: 0.0000e+00\n",
      "Epoch 9/25\n",
      "34/34 [==============================] - 1s 22ms/step - loss: 4.8250 - accuracy: 0.0000e+00\n",
      "Epoch 10/25\n",
      "34/34 [==============================] - 1s 22ms/step - loss: 2.3681 - accuracy: 0.0000e+00\n",
      "Epoch 11/25\n",
      "34/34 [==============================] - 1s 22ms/step - loss: 1.5600 - accuracy: 0.0000e+00\n",
      "Epoch 12/25\n",
      "34/34 [==============================] - 1s 22ms/step - loss: 1.3511 - accuracy: 0.0000e+00\n",
      "Epoch 13/25\n",
      "34/34 [==============================] - 1s 22ms/step - loss: 1.2693 - accuracy: 0.0000e+00\n",
      "Epoch 14/25\n",
      "34/34 [==============================] - 1s 22ms/step - loss: 1.2198 - accuracy: 0.0000e+00\n",
      "Epoch 15/25\n",
      "34/34 [==============================] - 1s 22ms/step - loss: 1.1889 - accuracy: 0.0000e+00\n",
      "Epoch 16/25\n",
      "34/34 [==============================] - 1s 22ms/step - loss: 1.1692 - accuracy: 0.0000e+00\n",
      "Epoch 17/25\n",
      "34/34 [==============================] - 1s 22ms/step - loss: 1.1564 - accuracy: 0.0000e+00\n",
      "Epoch 18/25\n",
      "34/34 [==============================] - 1s 22ms/step - loss: 1.1479 - accuracy: 0.0000e+00\n",
      "Epoch 19/25\n",
      "34/34 [==============================] - 1s 22ms/step - loss: 1.1425 - accuracy: 0.0000e+00\n",
      "Epoch 20/25\n",
      "34/34 [==============================] - 1s 22ms/step - loss: 1.1385 - accuracy: 0.0000e+00\n",
      "Epoch 21/25\n",
      "34/34 [==============================] - 1s 22ms/step - loss: 1.1358 - accuracy: 0.0000e+00\n",
      "Epoch 22/25\n",
      "34/34 [==============================] - 1s 22ms/step - loss: 1.1340 - accuracy: 0.0000e+00\n",
      "Epoch 23/25\n",
      "34/34 [==============================] - 1s 22ms/step - loss: 1.1329 - accuracy: 0.0000e+00\n",
      "Epoch 24/25\n",
      "34/34 [==============================] - 1s 22ms/step - loss: 1.1317 - accuracy: 0.0000e+00\n",
      "Epoch 25/25\n",
      "34/34 [==============================] - 1s 22ms/step - loss: 1.1311 - accuracy: 0.0000e+00\n",
      " 16/531 [..............................] - ETA: 3s - loss: 1.1778 - accuracy: 0.0000e+00"
     ]
    },
    {
     "name": "stderr",
     "output_type": "stream",
     "text": [
      "2021-11-05 18:43:39.708981: I tensorflow/core/grappler/optimizers/custom_graph_optimizer_registry.cc:112] Plugin optimizer for device_type GPU is enabled.\n"
     ]
    },
    {
     "name": "stdout",
     "output_type": "stream",
     "text": [
      "531/531 [==============================] - 4s 7ms/step - loss: 1.1305 - accuracy: 0.0000e+00\n",
      "Test loss: 1.1304889917373657\n",
      "Test accuracy: 0.0\n"
     ]
    }
   ],
   "source": [
    "\n",
    "model_RNN = tf.keras.Sequential([\n",
    " encoder,\n",
    "    tf.keras.layers.Embedding(\n",
    "        input_dim=len(encoder.get_vocabulary()),\n",
    "        output_dim=64,\n",
    "        # Use masking to handle the variable sequence lengths\n",
    "        mask_zero=True),\n",
    "    tf.keras.layers.SimpleRNN(64),\n",
    "    tf.keras.layers.Dense(64, activation='relu'),\n",
    "    tf.keras.layers.Dense(1)\n",
    "])\n",
    "\n",
    "\n",
    "\n",
    "\n",
    "# # Sequential Model\n",
    "# feed_forward_model = keras.models.Sequential([\n",
    "    \n",
    "#     encoder,\n",
    "#     tf.keras.layers.Embedding(\n",
    "#         input_dim=len(encoder.get_vocabulary()),\n",
    "#         output_dim=64,\n",
    "#         # Use masking to handle the variable sequence lengths\n",
    "#         mask_zero=True),\n",
    "    \n",
    "#     # keras.layers.Dense(30, activation='relu'),\n",
    "#     # keras.layers.Dense(50, activation='relu'),\n",
    "#     keras.layers.Dense(1, activation='relu')\n",
    "# ])\n",
    "# # feed_forward_model.build(input_shape=(16989, 1))\n",
    "\n",
    "model_RNN.compile(loss=tf.keras.losses.MeanSquaredError(),\n",
    "              optimizer=tf.keras.optimizers.Adam(1e-4),\n",
    "              metrics=['accuracy'])\n",
    "\n",
    "\n",
    "# feed_forward_model.compile(\n",
    "#     optimizer='adam',\n",
    "#     loss='mean_squared_error',\n",
    "#     metrics=['accuracy'])\n",
    "\n",
    "model_RNN.summary()\n",
    "\n",
    "\n",
    "# # Define the Keras TensorBoard callback.\n",
    "# logdir=\"logs/fit/\" + datetime.now().strftime(\"%Y%m%d-%H%M%S\")\n",
    "# tensorboard_callback = keras.callbacks.TensorBoard(log_dir=logdir)\n",
    "\n",
    "# # Train the model.\n",
    "model_RNN.fit(\n",
    "    x_train,\n",
    "    y_train, \n",
    "    batch_size=512,\n",
    "    epochs=25)\n",
    "\n",
    "\n",
    "\n",
    "\n",
    "# # Evaluate\n",
    "score = model_RNN.evaluate(x_train, y_train)\n",
    "print('Test loss:', score[0])\n",
    "print('Test accuracy:', score[1])\n"
   ]
  },
  {
   "cell_type": "markdown",
   "metadata": {},
   "source": []
  }
 ],
 "metadata": {
  "interpreter": {
   "hash": "4bd624a0593993fe43ac4046b27b898fb2ef75c21c08f81e89e64ea0f51df676"
  },
  "kernelspec": {
   "display_name": "Python 3.9.7 64-bit ('tensorflow': conda)",
   "name": "python3"
  },
  "language_info": {
   "codemirror_mode": {
    "name": "ipython",
    "version": 3
   },
   "file_extension": ".py",
   "mimetype": "text/x-python",
   "name": "python",
   "nbconvert_exporter": "python",
   "pygments_lexer": "ipython3",
   "version": "3.9.7"
  },
  "orig_nbformat": 4
 },
 "nbformat": 4,
 "nbformat_minor": 2
}
